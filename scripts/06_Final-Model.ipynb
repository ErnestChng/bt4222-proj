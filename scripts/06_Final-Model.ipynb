{
 "cells": [
  {
   "cell_type": "markdown",
   "metadata": {},
   "source": [
    "# Final Classification Model"
   ]
  },
  {
   "cell_type": "code",
   "execution_count": 65,
   "metadata": {},
   "outputs": [],
   "source": [
    "import numpy as np\n",
    "import pandas as pd\n",
    "from sklearn.ensemble import RandomForestClassifier, StackingClassifier\n",
    "from sklearn.linear_model import LogisticRegression\n",
    "from sklearn.metrics import f1_score\n",
    "from sklearn.model_selection import TimeSeriesSplit\n",
    "from sklearn.svm import SVC\n",
    "from sklearn.tree import DecisionTreeClassifier"
   ]
  },
  {
   "cell_type": "code",
   "execution_count": 47,
   "metadata": {},
   "outputs": [],
   "source": [
    "macro = pd.read_csv('macro.csv').iloc[:,1:-1]\n",
    "target = pd.read_csv('macro.csv').iloc[:,-1]"
   ]
  },
  {
   "cell_type": "code",
   "execution_count": 45,
   "metadata": {},
   "outputs": [],
   "source": [
    "lda = pd.read_csv('df_with_lda.csv').iloc[:,-6:]"
   ]
  },
  {
   "cell_type": "code",
   "execution_count": 55,
   "metadata": {},
   "outputs": [],
   "source": [
    "sentiments = pd.read_csv('sentiments.csv').iloc[1:,:].reset_index().drop(columns=['index'])"
   ]
  },
  {
   "cell_type": "code",
   "execution_count": 48,
   "metadata": {},
   "outputs": [
    {
     "data": {
      "text/html": [
       "<div>\n",
       "<style scoped>\n",
       "    .dataframe tbody tr th:only-of-type {\n",
       "        vertical-align: middle;\n",
       "    }\n",
       "\n",
       "    .dataframe tbody tr th {\n",
       "        vertical-align: top;\n",
       "    }\n",
       "\n",
       "    .dataframe thead th {\n",
       "        text-align: right;\n",
       "    }\n",
       "</style>\n",
       "<table border=\"1\" class=\"dataframe\">\n",
       "  <thead>\n",
       "    <tr style=\"text-align: right;\">\n",
       "      <th></th>\n",
       "      <th>GDPC1</th>\n",
       "      <th>CPIAUCSL</th>\n",
       "      <th>UNRATE</th>\n",
       "      <th>PAYEMS</th>\n",
       "      <th>RRSFS</th>\n",
       "      <th>GFDEBTN</th>\n",
       "      <th>VIXCLS</th>\n",
       "      <th>DFF</th>\n",
       "    </tr>\n",
       "  </thead>\n",
       "  <tbody>\n",
       "    <tr>\n",
       "      <th>0</th>\n",
       "      <td>15267.026</td>\n",
       "      <td>199.4</td>\n",
       "      <td>4.8</td>\n",
       "      <td>135737.0</td>\n",
       "      <td>177887.0</td>\n",
       "      <td>8371156.0</td>\n",
       "      <td>12.412857</td>\n",
       "      <td>4.491429</td>\n",
       "    </tr>\n",
       "    <tr>\n",
       "      <th>1</th>\n",
       "      <td>15267.026</td>\n",
       "      <td>199.7</td>\n",
       "      <td>4.7</td>\n",
       "      <td>136047.0</td>\n",
       "      <td>178100.0</td>\n",
       "      <td>8371156.0</td>\n",
       "      <td>11.716129</td>\n",
       "      <td>4.589355</td>\n",
       "    </tr>\n",
       "    <tr>\n",
       "      <th>2</th>\n",
       "      <td>15302.705</td>\n",
       "      <td>200.7</td>\n",
       "      <td>4.7</td>\n",
       "      <td>136205.0</td>\n",
       "      <td>178088.0</td>\n",
       "      <td>8420042.0</td>\n",
       "      <td>11.863333</td>\n",
       "      <td>4.790333</td>\n",
       "    </tr>\n",
       "    <tr>\n",
       "      <th>3</th>\n",
       "      <td>15302.705</td>\n",
       "      <td>201.3</td>\n",
       "      <td>4.6</td>\n",
       "      <td>136244.0</td>\n",
       "      <td>177200.0</td>\n",
       "      <td>8420042.0</td>\n",
       "      <td>14.411613</td>\n",
       "      <td>4.940323</td>\n",
       "    </tr>\n",
       "    <tr>\n",
       "      <th>4</th>\n",
       "      <td>15302.705</td>\n",
       "      <td>201.8</td>\n",
       "      <td>4.6</td>\n",
       "      <td>136325.0</td>\n",
       "      <td>177343.0</td>\n",
       "      <td>8420042.0</td>\n",
       "      <td>16.779000</td>\n",
       "      <td>4.991000</td>\n",
       "    </tr>\n",
       "  </tbody>\n",
       "</table>\n",
       "</div>"
      ],
      "text/plain": [
       "       GDPC1  CPIAUCSL  UNRATE    PAYEMS     RRSFS    GFDEBTN     VIXCLS  \\\n",
       "0  15267.026     199.4     4.8  135737.0  177887.0  8371156.0  12.412857   \n",
       "1  15267.026     199.7     4.7  136047.0  178100.0  8371156.0  11.716129   \n",
       "2  15302.705     200.7     4.7  136205.0  178088.0  8420042.0  11.863333   \n",
       "3  15302.705     201.3     4.6  136244.0  177200.0  8420042.0  14.411613   \n",
       "4  15302.705     201.8     4.6  136325.0  177343.0  8420042.0  16.779000   \n",
       "\n",
       "        DFF  \n",
       "0  4.491429  \n",
       "1  4.589355  \n",
       "2  4.790333  \n",
       "3  4.940323  \n",
       "4  4.991000  "
      ]
     },
     "execution_count": 48,
     "metadata": {},
     "output_type": "execute_result"
    }
   ],
   "source": [
    "macro.head()"
   ]
  },
  {
   "cell_type": "code",
   "execution_count": 49,
   "metadata": {},
   "outputs": [
    {
     "data": {
      "text/plain": [
       "0    1\n",
       "1    1\n",
       "2    1\n",
       "3    1\n",
       "4    1\n",
       "Name: target, dtype: int64"
      ]
     },
     "execution_count": 49,
     "metadata": {},
     "output_type": "execute_result"
    }
   ],
   "source": [
    "target.head()"
   ]
  },
  {
   "cell_type": "code",
   "execution_count": 46,
   "metadata": {},
   "outputs": [
    {
     "data": {
      "text/html": [
       "<div>\n",
       "<style scoped>\n",
       "    .dataframe tbody tr th:only-of-type {\n",
       "        vertical-align: middle;\n",
       "    }\n",
       "\n",
       "    .dataframe tbody tr th {\n",
       "        vertical-align: top;\n",
       "    }\n",
       "\n",
       "    .dataframe thead th {\n",
       "        text-align: right;\n",
       "    }\n",
       "</style>\n",
       "<table border=\"1\" class=\"dataframe\">\n",
       "  <thead>\n",
       "    <tr style=\"text-align: right;\">\n",
       "      <th></th>\n",
       "      <th>prob_topic_1</th>\n",
       "      <th>prob_topic_2</th>\n",
       "      <th>prob_topic_3</th>\n",
       "      <th>prob_topic_4</th>\n",
       "      <th>prob_topic_5</th>\n",
       "      <th>prob_topic_6</th>\n",
       "    </tr>\n",
       "  </thead>\n",
       "  <tbody>\n",
       "    <tr>\n",
       "      <th>0</th>\n",
       "      <td>2.532629e-07</td>\n",
       "      <td>0.442418</td>\n",
       "      <td>0.098614</td>\n",
       "      <td>0.148826</td>\n",
       "      <td>0.021148</td>\n",
       "      <td>0.288993</td>\n",
       "    </tr>\n",
       "    <tr>\n",
       "      <th>1</th>\n",
       "      <td>5.791823e-07</td>\n",
       "      <td>0.013136</td>\n",
       "      <td>0.000042</td>\n",
       "      <td>0.970716</td>\n",
       "      <td>0.002117</td>\n",
       "      <td>0.013989</td>\n",
       "    </tr>\n",
       "    <tr>\n",
       "      <th>2</th>\n",
       "      <td>2.570856e-07</td>\n",
       "      <td>0.388304</td>\n",
       "      <td>0.011189</td>\n",
       "      <td>0.465910</td>\n",
       "      <td>0.011551</td>\n",
       "      <td>0.123046</td>\n",
       "    </tr>\n",
       "    <tr>\n",
       "      <th>3</th>\n",
       "      <td>2.403132e-07</td>\n",
       "      <td>0.492659</td>\n",
       "      <td>0.050694</td>\n",
       "      <td>0.115820</td>\n",
       "      <td>0.125781</td>\n",
       "      <td>0.215045</td>\n",
       "    </tr>\n",
       "    <tr>\n",
       "      <th>4</th>\n",
       "      <td>1.027025e-06</td>\n",
       "      <td>0.005665</td>\n",
       "      <td>0.000001</td>\n",
       "      <td>0.992321</td>\n",
       "      <td>0.000148</td>\n",
       "      <td>0.001864</td>\n",
       "    </tr>\n",
       "  </tbody>\n",
       "</table>\n",
       "</div>"
      ],
      "text/plain": [
       "   prob_topic_1  prob_topic_2  prob_topic_3  prob_topic_4  prob_topic_5  \\\n",
       "0  2.532629e-07      0.442418      0.098614      0.148826      0.021148   \n",
       "1  5.791823e-07      0.013136      0.000042      0.970716      0.002117   \n",
       "2  2.570856e-07      0.388304      0.011189      0.465910      0.011551   \n",
       "3  2.403132e-07      0.492659      0.050694      0.115820      0.125781   \n",
       "4  1.027025e-06      0.005665      0.000001      0.992321      0.000148   \n",
       "\n",
       "   prob_topic_6  \n",
       "0      0.288993  \n",
       "1      0.013989  \n",
       "2      0.123046  \n",
       "3      0.215045  \n",
       "4      0.001864  "
      ]
     },
     "execution_count": 46,
     "metadata": {},
     "output_type": "execute_result"
    }
   ],
   "source": [
    "lda.head()"
   ]
  },
  {
   "cell_type": "code",
   "execution_count": 56,
   "metadata": {},
   "outputs": [
    {
     "data": {
      "text/html": [
       "<div>\n",
       "<style scoped>\n",
       "    .dataframe tbody tr th:only-of-type {\n",
       "        vertical-align: middle;\n",
       "    }\n",
       "\n",
       "    .dataframe tbody tr th {\n",
       "        vertical-align: top;\n",
       "    }\n",
       "\n",
       "    .dataframe thead th {\n",
       "        text-align: right;\n",
       "    }\n",
       "</style>\n",
       "<table border=\"1\" class=\"dataframe\">\n",
       "  <thead>\n",
       "    <tr style=\"text-align: right;\">\n",
       "      <th></th>\n",
       "      <th>sentiments</th>\n",
       "    </tr>\n",
       "  </thead>\n",
       "  <tbody>\n",
       "    <tr>\n",
       "      <th>0</th>\n",
       "      <td>-0.1</td>\n",
       "    </tr>\n",
       "    <tr>\n",
       "      <th>1</th>\n",
       "      <td>0.0</td>\n",
       "    </tr>\n",
       "    <tr>\n",
       "      <th>2</th>\n",
       "      <td>0.0</td>\n",
       "    </tr>\n",
       "    <tr>\n",
       "      <th>3</th>\n",
       "      <td>0.0</td>\n",
       "    </tr>\n",
       "    <tr>\n",
       "      <th>4</th>\n",
       "      <td>0.6</td>\n",
       "    </tr>\n",
       "  </tbody>\n",
       "</table>\n",
       "</div>"
      ],
      "text/plain": [
       "   sentiments\n",
       "0        -0.1\n",
       "1         0.0\n",
       "2         0.0\n",
       "3         0.0\n",
       "4         0.6"
      ]
     },
     "execution_count": 56,
     "metadata": {},
     "output_type": "execute_result"
    }
   ],
   "source": [
    "sentiments.head()"
   ]
  },
  {
   "cell_type": "code",
   "execution_count": 69,
   "metadata": {},
   "outputs": [],
   "source": [
    "final_df = pd.concat([macro, lda, sentiments, target], axis=1).reindex(macro.index)"
   ]
  },
  {
   "cell_type": "code",
   "execution_count": 70,
   "metadata": {},
   "outputs": [
    {
     "data": {
      "text/html": [
       "<div>\n",
       "<style scoped>\n",
       "    .dataframe tbody tr th:only-of-type {\n",
       "        vertical-align: middle;\n",
       "    }\n",
       "\n",
       "    .dataframe tbody tr th {\n",
       "        vertical-align: top;\n",
       "    }\n",
       "\n",
       "    .dataframe thead th {\n",
       "        text-align: right;\n",
       "    }\n",
       "</style>\n",
       "<table border=\"1\" class=\"dataframe\">\n",
       "  <thead>\n",
       "    <tr style=\"text-align: right;\">\n",
       "      <th></th>\n",
       "      <th>GDPC1</th>\n",
       "      <th>CPIAUCSL</th>\n",
       "      <th>UNRATE</th>\n",
       "      <th>PAYEMS</th>\n",
       "      <th>RRSFS</th>\n",
       "      <th>GFDEBTN</th>\n",
       "      <th>VIXCLS</th>\n",
       "      <th>DFF</th>\n",
       "      <th>prob_topic_1</th>\n",
       "      <th>prob_topic_2</th>\n",
       "      <th>prob_topic_3</th>\n",
       "      <th>prob_topic_4</th>\n",
       "      <th>prob_topic_5</th>\n",
       "      <th>prob_topic_6</th>\n",
       "      <th>sentiments</th>\n",
       "      <th>target</th>\n",
       "    </tr>\n",
       "  </thead>\n",
       "  <tbody>\n",
       "    <tr>\n",
       "      <th>0</th>\n",
       "      <td>15267.026</td>\n",
       "      <td>199.400</td>\n",
       "      <td>4.8</td>\n",
       "      <td>135737.0</td>\n",
       "      <td>177887.0</td>\n",
       "      <td>8371156.0</td>\n",
       "      <td>12.412857</td>\n",
       "      <td>4.491429</td>\n",
       "      <td>2.532629e-07</td>\n",
       "      <td>0.442418</td>\n",
       "      <td>0.098614</td>\n",
       "      <td>0.148826</td>\n",
       "      <td>0.021148</td>\n",
       "      <td>2.889927e-01</td>\n",
       "      <td>-0.1</td>\n",
       "      <td>1</td>\n",
       "    </tr>\n",
       "    <tr>\n",
       "      <th>1</th>\n",
       "      <td>15267.026</td>\n",
       "      <td>199.700</td>\n",
       "      <td>4.7</td>\n",
       "      <td>136047.0</td>\n",
       "      <td>178100.0</td>\n",
       "      <td>8371156.0</td>\n",
       "      <td>11.716129</td>\n",
       "      <td>4.589355</td>\n",
       "      <td>5.791823e-07</td>\n",
       "      <td>0.013136</td>\n",
       "      <td>0.000042</td>\n",
       "      <td>0.970716</td>\n",
       "      <td>0.002117</td>\n",
       "      <td>1.398868e-02</td>\n",
       "      <td>0.0</td>\n",
       "      <td>1</td>\n",
       "    </tr>\n",
       "    <tr>\n",
       "      <th>2</th>\n",
       "      <td>15302.705</td>\n",
       "      <td>200.700</td>\n",
       "      <td>4.7</td>\n",
       "      <td>136205.0</td>\n",
       "      <td>178088.0</td>\n",
       "      <td>8420042.0</td>\n",
       "      <td>11.863333</td>\n",
       "      <td>4.790333</td>\n",
       "      <td>2.570856e-07</td>\n",
       "      <td>0.388304</td>\n",
       "      <td>0.011189</td>\n",
       "      <td>0.465910</td>\n",
       "      <td>0.011551</td>\n",
       "      <td>1.230458e-01</td>\n",
       "      <td>0.0</td>\n",
       "      <td>1</td>\n",
       "    </tr>\n",
       "    <tr>\n",
       "      <th>3</th>\n",
       "      <td>15302.705</td>\n",
       "      <td>201.300</td>\n",
       "      <td>4.6</td>\n",
       "      <td>136244.0</td>\n",
       "      <td>177200.0</td>\n",
       "      <td>8420042.0</td>\n",
       "      <td>14.411613</td>\n",
       "      <td>4.940323</td>\n",
       "      <td>2.403132e-07</td>\n",
       "      <td>0.492659</td>\n",
       "      <td>0.050694</td>\n",
       "      <td>0.115820</td>\n",
       "      <td>0.125781</td>\n",
       "      <td>2.150454e-01</td>\n",
       "      <td>0.0</td>\n",
       "      <td>1</td>\n",
       "    </tr>\n",
       "    <tr>\n",
       "      <th>4</th>\n",
       "      <td>15302.705</td>\n",
       "      <td>201.800</td>\n",
       "      <td>4.6</td>\n",
       "      <td>136325.0</td>\n",
       "      <td>177343.0</td>\n",
       "      <td>8420042.0</td>\n",
       "      <td>16.779000</td>\n",
       "      <td>4.991000</td>\n",
       "      <td>1.027025e-06</td>\n",
       "      <td>0.005665</td>\n",
       "      <td>0.000001</td>\n",
       "      <td>0.992321</td>\n",
       "      <td>0.000148</td>\n",
       "      <td>1.864488e-03</td>\n",
       "      <td>0.6</td>\n",
       "      <td>1</td>\n",
       "    </tr>\n",
       "    <tr>\n",
       "      <th>...</th>\n",
       "      <td>...</td>\n",
       "      <td>...</td>\n",
       "      <td>...</td>\n",
       "      <td>...</td>\n",
       "      <td>...</td>\n",
       "      <td>...</td>\n",
       "      <td>...</td>\n",
       "      <td>...</td>\n",
       "      <td>...</td>\n",
       "      <td>...</td>\n",
       "      <td>...</td>\n",
       "      <td>...</td>\n",
       "      <td>...</td>\n",
       "      <td>...</td>\n",
       "      <td>...</td>\n",
       "      <td>...</td>\n",
       "    </tr>\n",
       "    <tr>\n",
       "      <th>176</th>\n",
       "      <td>18794.426</td>\n",
       "      <td>260.462</td>\n",
       "      <td>6.9</td>\n",
       "      <td>142545.0</td>\n",
       "      <td>212005.0</td>\n",
       "      <td>27747798.0</td>\n",
       "      <td>29.059677</td>\n",
       "      <td>0.090000</td>\n",
       "      <td>8.155466e-07</td>\n",
       "      <td>0.001263</td>\n",
       "      <td>0.277596</td>\n",
       "      <td>0.718868</td>\n",
       "      <td>0.000778</td>\n",
       "      <td>1.493741e-03</td>\n",
       "      <td>0.1</td>\n",
       "      <td>0</td>\n",
       "    </tr>\n",
       "    <tr>\n",
       "      <th>177</th>\n",
       "      <td>18794.426</td>\n",
       "      <td>260.927</td>\n",
       "      <td>6.7</td>\n",
       "      <td>142809.0</td>\n",
       "      <td>208966.0</td>\n",
       "      <td>27747798.0</td>\n",
       "      <td>24.806000</td>\n",
       "      <td>0.086333</td>\n",
       "      <td>7.587675e-07</td>\n",
       "      <td>0.001052</td>\n",
       "      <td>0.233172</td>\n",
       "      <td>0.763330</td>\n",
       "      <td>0.000944</td>\n",
       "      <td>1.501466e-03</td>\n",
       "      <td>0.1</td>\n",
       "      <td>0</td>\n",
       "    </tr>\n",
       "    <tr>\n",
       "      <th>178</th>\n",
       "      <td>18794.426</td>\n",
       "      <td>261.560</td>\n",
       "      <td>6.7</td>\n",
       "      <td>142503.0</td>\n",
       "      <td>205818.0</td>\n",
       "      <td>27747798.0</td>\n",
       "      <td>22.198710</td>\n",
       "      <td>0.090000</td>\n",
       "      <td>8.281763e-07</td>\n",
       "      <td>0.000082</td>\n",
       "      <td>0.501833</td>\n",
       "      <td>0.497920</td>\n",
       "      <td>0.000163</td>\n",
       "      <td>8.281763e-07</td>\n",
       "      <td>0.1</td>\n",
       "      <td>0</td>\n",
       "    </tr>\n",
       "    <tr>\n",
       "      <th>179</th>\n",
       "      <td>18794.426</td>\n",
       "      <td>262.231</td>\n",
       "      <td>6.3</td>\n",
       "      <td>142669.0</td>\n",
       "      <td>220845.0</td>\n",
       "      <td>27747798.0</td>\n",
       "      <td>24.763871</td>\n",
       "      <td>0.085161</td>\n",
       "      <td>1.981140e-06</td>\n",
       "      <td>0.000002</td>\n",
       "      <td>0.000002</td>\n",
       "      <td>0.999990</td>\n",
       "      <td>0.000002</td>\n",
       "      <td>1.981140e-06</td>\n",
       "      <td>0.3</td>\n",
       "      <td>0</td>\n",
       "    </tr>\n",
       "    <tr>\n",
       "      <th>180</th>\n",
       "      <td>18794.426</td>\n",
       "      <td>263.161</td>\n",
       "      <td>6.2</td>\n",
       "      <td>143048.0</td>\n",
       "      <td>213438.0</td>\n",
       "      <td>27747798.0</td>\n",
       "      <td>22.904286</td>\n",
       "      <td>0.075714</td>\n",
       "      <td>1.095593e-06</td>\n",
       "      <td>0.003851</td>\n",
       "      <td>0.474906</td>\n",
       "      <td>0.515606</td>\n",
       "      <td>0.001821</td>\n",
       "      <td>3.814112e-03</td>\n",
       "      <td>0.1</td>\n",
       "      <td>0</td>\n",
       "    </tr>\n",
       "  </tbody>\n",
       "</table>\n",
       "<p>181 rows × 16 columns</p>\n",
       "</div>"
      ],
      "text/plain": [
       "         GDPC1  CPIAUCSL  UNRATE    PAYEMS     RRSFS     GFDEBTN     VIXCLS  \\\n",
       "0    15267.026   199.400     4.8  135737.0  177887.0   8371156.0  12.412857   \n",
       "1    15267.026   199.700     4.7  136047.0  178100.0   8371156.0  11.716129   \n",
       "2    15302.705   200.700     4.7  136205.0  178088.0   8420042.0  11.863333   \n",
       "3    15302.705   201.300     4.6  136244.0  177200.0   8420042.0  14.411613   \n",
       "4    15302.705   201.800     4.6  136325.0  177343.0   8420042.0  16.779000   \n",
       "..         ...       ...     ...       ...       ...         ...        ...   \n",
       "176  18794.426   260.462     6.9  142545.0  212005.0  27747798.0  29.059677   \n",
       "177  18794.426   260.927     6.7  142809.0  208966.0  27747798.0  24.806000   \n",
       "178  18794.426   261.560     6.7  142503.0  205818.0  27747798.0  22.198710   \n",
       "179  18794.426   262.231     6.3  142669.0  220845.0  27747798.0  24.763871   \n",
       "180  18794.426   263.161     6.2  143048.0  213438.0  27747798.0  22.904286   \n",
       "\n",
       "          DFF  prob_topic_1  prob_topic_2  prob_topic_3  prob_topic_4  \\\n",
       "0    4.491429  2.532629e-07      0.442418      0.098614      0.148826   \n",
       "1    4.589355  5.791823e-07      0.013136      0.000042      0.970716   \n",
       "2    4.790333  2.570856e-07      0.388304      0.011189      0.465910   \n",
       "3    4.940323  2.403132e-07      0.492659      0.050694      0.115820   \n",
       "4    4.991000  1.027025e-06      0.005665      0.000001      0.992321   \n",
       "..        ...           ...           ...           ...           ...   \n",
       "176  0.090000  8.155466e-07      0.001263      0.277596      0.718868   \n",
       "177  0.086333  7.587675e-07      0.001052      0.233172      0.763330   \n",
       "178  0.090000  8.281763e-07      0.000082      0.501833      0.497920   \n",
       "179  0.085161  1.981140e-06      0.000002      0.000002      0.999990   \n",
       "180  0.075714  1.095593e-06      0.003851      0.474906      0.515606   \n",
       "\n",
       "     prob_topic_5  prob_topic_6  sentiments  target  \n",
       "0        0.021148  2.889927e-01        -0.1       1  \n",
       "1        0.002117  1.398868e-02         0.0       1  \n",
       "2        0.011551  1.230458e-01         0.0       1  \n",
       "3        0.125781  2.150454e-01         0.0       1  \n",
       "4        0.000148  1.864488e-03         0.6       1  \n",
       "..            ...           ...         ...     ...  \n",
       "176      0.000778  1.493741e-03         0.1       0  \n",
       "177      0.000944  1.501466e-03         0.1       0  \n",
       "178      0.000163  8.281763e-07         0.1       0  \n",
       "179      0.000002  1.981140e-06         0.3       0  \n",
       "180      0.001821  3.814112e-03         0.1       0  \n",
       "\n",
       "[181 rows x 16 columns]"
      ]
     },
     "execution_count": 70,
     "metadata": {},
     "output_type": "execute_result"
    }
   ],
   "source": [
    "final_df"
   ]
  },
  {
   "cell_type": "markdown",
   "metadata": {},
   "source": [
    "### Stacking"
   ]
  },
  {
   "cell_type": "code",
   "execution_count": 71,
   "metadata": {},
   "outputs": [
    {
     "name": "stdout",
     "output_type": "stream",
     "text": [
      "Observations: 181\n",
      "Training Observations: 126\n",
      "Testing Observations: 55\n"
     ]
    }
   ],
   "source": [
    "train_size = int(len(final_df) * 0.7)\n",
    "train, test = final_df[0:train_size], final_df[train_size:len(final_df)]\n",
    "print('Observations: %d' % (len(final_df)))\n",
    "print('Training Observations: %d' % (len(train)))\n",
    "print('Testing Observations: %d' % (len(test)))"
   ]
  },
  {
   "cell_type": "code",
   "execution_count": 269,
   "metadata": {},
   "outputs": [],
   "source": [
    "X_train = train.iloc[:,:-1]\n",
    "X_test = test.iloc[:,:-1]\n",
    "y_train = train.target\n",
    "y_test = test.target"
   ]
  },
  {
   "cell_type": "code",
   "execution_count": 73,
   "metadata": {},
   "outputs": [],
   "source": [
    "X_train_mean = X_train.mean()\n",
    "X_train_std = X_train.std()\n",
    "X_train_norm = (X_train - X_train_mean)/X_train_std\n",
    "X_test_norm = (X_test - X_train_mean)/X_train_std"
   ]
  },
  {
   "cell_type": "code",
   "execution_count": 74,
   "metadata": {},
   "outputs": [
    {
     "data": {
      "text/html": [
       "<div>\n",
       "<style scoped>\n",
       "    .dataframe tbody tr th:only-of-type {\n",
       "        vertical-align: middle;\n",
       "    }\n",
       "\n",
       "    .dataframe tbody tr th {\n",
       "        vertical-align: top;\n",
       "    }\n",
       "\n",
       "    .dataframe thead th {\n",
       "        text-align: right;\n",
       "    }\n",
       "</style>\n",
       "<table border=\"1\" class=\"dataframe\">\n",
       "  <thead>\n",
       "    <tr style=\"text-align: right;\">\n",
       "      <th></th>\n",
       "      <th>GDPC1</th>\n",
       "      <th>CPIAUCSL</th>\n",
       "      <th>UNRATE</th>\n",
       "      <th>PAYEMS</th>\n",
       "      <th>RRSFS</th>\n",
       "      <th>GFDEBTN</th>\n",
       "      <th>VIXCLS</th>\n",
       "      <th>DFF</th>\n",
       "      <th>prob_topic_1</th>\n",
       "      <th>prob_topic_2</th>\n",
       "      <th>prob_topic_3</th>\n",
       "      <th>prob_topic_4</th>\n",
       "      <th>prob_topic_5</th>\n",
       "      <th>prob_topic_6</th>\n",
       "      <th>sentiments</th>\n",
       "    </tr>\n",
       "  </thead>\n",
       "  <tbody>\n",
       "    <tr>\n",
       "      <th>count</th>\n",
       "      <td>1.260000e+02</td>\n",
       "      <td>1.260000e+02</td>\n",
       "      <td>1.260000e+02</td>\n",
       "      <td>1.260000e+02</td>\n",
       "      <td>1.260000e+02</td>\n",
       "      <td>1.260000e+02</td>\n",
       "      <td>1.260000e+02</td>\n",
       "      <td>1.260000e+02</td>\n",
       "      <td>1.260000e+02</td>\n",
       "      <td>1.260000e+02</td>\n",
       "      <td>1.260000e+02</td>\n",
       "      <td>1.260000e+02</td>\n",
       "      <td>1.260000e+02</td>\n",
       "      <td>1.260000e+02</td>\n",
       "      <td>1.260000e+02</td>\n",
       "    </tr>\n",
       "    <tr>\n",
       "      <th>mean</th>\n",
       "      <td>1.061585e-14</td>\n",
       "      <td>-1.367513e-15</td>\n",
       "      <td>-2.164054e-15</td>\n",
       "      <td>2.918301e-15</td>\n",
       "      <td>9.357594e-16</td>\n",
       "      <td>7.049035e-18</td>\n",
       "      <td>2.202823e-16</td>\n",
       "      <td>-1.233581e-16</td>\n",
       "      <td>1.409807e-17</td>\n",
       "      <td>-2.273314e-16</td>\n",
       "      <td>-1.257812e-16</td>\n",
       "      <td>-3.876969e-17</td>\n",
       "      <td>-2.564087e-16</td>\n",
       "      <td>-2.308559e-16</td>\n",
       "      <td>-1.762259e-17</td>\n",
       "    </tr>\n",
       "    <tr>\n",
       "      <th>std</th>\n",
       "      <td>1.000000e+00</td>\n",
       "      <td>1.000000e+00</td>\n",
       "      <td>1.000000e+00</td>\n",
       "      <td>1.000000e+00</td>\n",
       "      <td>1.000000e+00</td>\n",
       "      <td>1.000000e+00</td>\n",
       "      <td>1.000000e+00</td>\n",
       "      <td>1.000000e+00</td>\n",
       "      <td>1.000000e+00</td>\n",
       "      <td>1.000000e+00</td>\n",
       "      <td>1.000000e+00</td>\n",
       "      <td>1.000000e+00</td>\n",
       "      <td>1.000000e+00</td>\n",
       "      <td>1.000000e+00</td>\n",
       "      <td>1.000000e+00</td>\n",
       "    </tr>\n",
       "    <tr>\n",
       "      <th>min</th>\n",
       "      <td>-1.274902e+00</td>\n",
       "      <td>-1.948426e+00</td>\n",
       "      <td>-1.313045e+00</td>\n",
       "      <td>-1.613832e+00</td>\n",
       "      <td>-2.107143e+00</td>\n",
       "      <td>-1.535712e+00</td>\n",
       "      <td>-1.017516e+00</td>\n",
       "      <td>-5.959379e-01</td>\n",
       "      <td>-4.598352e-01</td>\n",
       "      <td>-5.517964e-01</td>\n",
       "      <td>-8.375222e-01</td>\n",
       "      <td>-8.492882e-01</td>\n",
       "      <td>-3.215702e-01</td>\n",
       "      <td>-6.576107e-01</td>\n",
       "      <td>-2.499406e+00</td>\n",
       "    </tr>\n",
       "    <tr>\n",
       "      <th>25%</th>\n",
       "      <td>-7.907541e-01</td>\n",
       "      <td>-8.031639e-01</td>\n",
       "      <td>-9.946797e-01</td>\n",
       "      <td>-8.833009e-01</td>\n",
       "      <td>-5.734172e-01</td>\n",
       "      <td>-1.036391e+00</td>\n",
       "      <td>-6.463026e-01</td>\n",
       "      <td>-5.725120e-01</td>\n",
       "      <td>-4.139597e-01</td>\n",
       "      <td>-5.445820e-01</td>\n",
       "      <td>-8.291750e-01</td>\n",
       "      <td>-8.318972e-01</td>\n",
       "      <td>-3.215327e-01</td>\n",
       "      <td>-6.491820e-01</td>\n",
       "      <td>-6.894912e-01</td>\n",
       "    </tr>\n",
       "    <tr>\n",
       "      <th>50%</th>\n",
       "      <td>-3.889498e-01</td>\n",
       "      <td>1.264102e-01</td>\n",
       "      <td>-9.264587e-02</td>\n",
       "      <td>8.956371e-02</td>\n",
       "      <td>1.964664e-01</td>\n",
       "      <td>1.005970e-01</td>\n",
       "      <td>-3.092352e-01</td>\n",
       "      <td>-5.488121e-01</td>\n",
       "      <td>-3.608710e-01</td>\n",
       "      <td>-5.057229e-01</td>\n",
       "      <td>-5.583229e-01</td>\n",
       "      <td>-6.180862e-01</td>\n",
       "      <td>-2.981342e-01</td>\n",
       "      <td>-5.906540e-01</td>\n",
       "      <td>-8.618640e-02</td>\n",
       "    </tr>\n",
       "    <tr>\n",
       "      <th>75%</th>\n",
       "      <td>6.379854e-01</td>\n",
       "      <td>9.642093e-01</td>\n",
       "      <td>9.553052e-01</td>\n",
       "      <td>5.507161e-01</td>\n",
       "      <td>4.792275e-01</td>\n",
       "      <td>8.713676e-01</td>\n",
       "      <td>3.129302e-01</td>\n",
       "      <td>2.059479e-01</td>\n",
       "      <td>1.379887e-01</td>\n",
       "      <td>-1.893318e-01</td>\n",
       "      <td>8.482341e-01</td>\n",
       "      <td>1.354534e+00</td>\n",
       "      <td>-1.797519e-01</td>\n",
       "      <td>2.729914e-01</td>\n",
       "      <td>5.171184e-01</td>\n",
       "    </tr>\n",
       "    <tr>\n",
       "      <th>max</th>\n",
       "      <td>2.119144e+00</td>\n",
       "      <td>1.432838e+00</td>\n",
       "      <td>1.658361e+00</td>\n",
       "      <td>2.124056e+00</td>\n",
       "      <td>1.684213e+00</td>\n",
       "      <td>1.533715e+00</td>\n",
       "      <td>4.516257e+00</td>\n",
       "      <td>2.117231e+00</td>\n",
       "      <td>6.999801e+00</td>\n",
       "      <td>3.094864e+00</td>\n",
       "      <td>1.821035e+00</td>\n",
       "      <td>1.459208e+00</td>\n",
       "      <td>6.595048e+00</td>\n",
       "      <td>3.751794e+00</td>\n",
       "      <td>3.533643e+00</td>\n",
       "    </tr>\n",
       "  </tbody>\n",
       "</table>\n",
       "</div>"
      ],
      "text/plain": [
       "              GDPC1      CPIAUCSL        UNRATE        PAYEMS         RRSFS  \\\n",
       "count  1.260000e+02  1.260000e+02  1.260000e+02  1.260000e+02  1.260000e+02   \n",
       "mean   1.061585e-14 -1.367513e-15 -2.164054e-15  2.918301e-15  9.357594e-16   \n",
       "std    1.000000e+00  1.000000e+00  1.000000e+00  1.000000e+00  1.000000e+00   \n",
       "min   -1.274902e+00 -1.948426e+00 -1.313045e+00 -1.613832e+00 -2.107143e+00   \n",
       "25%   -7.907541e-01 -8.031639e-01 -9.946797e-01 -8.833009e-01 -5.734172e-01   \n",
       "50%   -3.889498e-01  1.264102e-01 -9.264587e-02  8.956371e-02  1.964664e-01   \n",
       "75%    6.379854e-01  9.642093e-01  9.553052e-01  5.507161e-01  4.792275e-01   \n",
       "max    2.119144e+00  1.432838e+00  1.658361e+00  2.124056e+00  1.684213e+00   \n",
       "\n",
       "            GFDEBTN        VIXCLS           DFF  prob_topic_1  prob_topic_2  \\\n",
       "count  1.260000e+02  1.260000e+02  1.260000e+02  1.260000e+02  1.260000e+02   \n",
       "mean   7.049035e-18  2.202823e-16 -1.233581e-16  1.409807e-17 -2.273314e-16   \n",
       "std    1.000000e+00  1.000000e+00  1.000000e+00  1.000000e+00  1.000000e+00   \n",
       "min   -1.535712e+00 -1.017516e+00 -5.959379e-01 -4.598352e-01 -5.517964e-01   \n",
       "25%   -1.036391e+00 -6.463026e-01 -5.725120e-01 -4.139597e-01 -5.445820e-01   \n",
       "50%    1.005970e-01 -3.092352e-01 -5.488121e-01 -3.608710e-01 -5.057229e-01   \n",
       "75%    8.713676e-01  3.129302e-01  2.059479e-01  1.379887e-01 -1.893318e-01   \n",
       "max    1.533715e+00  4.516257e+00  2.117231e+00  6.999801e+00  3.094864e+00   \n",
       "\n",
       "       prob_topic_3  prob_topic_4  prob_topic_5  prob_topic_6    sentiments  \n",
       "count  1.260000e+02  1.260000e+02  1.260000e+02  1.260000e+02  1.260000e+02  \n",
       "mean  -1.257812e-16 -3.876969e-17 -2.564087e-16 -2.308559e-16 -1.762259e-17  \n",
       "std    1.000000e+00  1.000000e+00  1.000000e+00  1.000000e+00  1.000000e+00  \n",
       "min   -8.375222e-01 -8.492882e-01 -3.215702e-01 -6.576107e-01 -2.499406e+00  \n",
       "25%   -8.291750e-01 -8.318972e-01 -3.215327e-01 -6.491820e-01 -6.894912e-01  \n",
       "50%   -5.583229e-01 -6.180862e-01 -2.981342e-01 -5.906540e-01 -8.618640e-02  \n",
       "75%    8.482341e-01  1.354534e+00 -1.797519e-01  2.729914e-01  5.171184e-01  \n",
       "max    1.821035e+00  1.459208e+00  6.595048e+00  3.751794e+00  3.533643e+00  "
      ]
     },
     "execution_count": 74,
     "metadata": {},
     "output_type": "execute_result"
    }
   ],
   "source": [
    "X_train_norm.describe()"
   ]
  },
  {
   "cell_type": "code",
   "execution_count": 83,
   "metadata": {},
   "outputs": [],
   "source": [
    "import matplotlib.pyplot as plt\n",
    "import seaborn as sns"
   ]
  },
  {
   "cell_type": "code",
   "execution_count": 326,
   "metadata": {},
   "outputs": [
    {
     "name": "stdout",
     "output_type": "stream",
     "text": [
      "Iteration no  1\n",
      "[90.68963078004354, 41.83842849602714, 95.18602330100406, 94.47896070537455, 55.46245587145537, 62.696002341960615, 3.1765934108137728, 41.67384198987408, 2488.0871599810243, 84179432287298.98, 166799986198907.25, 225179981368524.8, 7778237698394.639, 59650326190337.695, 1.1438890160667734]\n",
      "Max vif  11\n",
      "Iteration no  2\n",
      "[89.61544095049483, 41.762514753796566, 93.47466583387033, 94.46331092324097, 55.403458682010054, 62.69168117072353, 3.163421854182282, 40.65693136134039, 1.494150323145746, 2.084774403858053, 2.1300327278686244, 1.1625055872340733, 1.5298251646974554, 1.1388614999778393]\n",
      "Max vif  3\n",
      "Iteration no  3\n",
      "[51.33602206925491, 37.41771502072303, 26.530678115346557, 46.307891909425585, 61.858061665912075, 2.9676707126971946, 40.20592630738528, 1.47312185340926, 2.061746631237053, 2.1187238752665176, 1.157214819633932, 1.5188233590334097, 1.0786378906853349]\n",
      "Max vif  4\n",
      "Iteration no  4\n",
      "[35.10080410951239, 35.849980473666236, 18.784963391134035, 42.288795219860106, 2.9558175413709957, 37.61879761413738, 1.4729165623341565, 1.8883496577530012, 2.0578003876717066, 1.149426234812092, 1.5063510554570572, 1.0785825933264783]\n",
      "Max vif  3\n",
      "Iteration no  5\n",
      "[25.349953185077563, 27.184316601727005, 16.153402518604878, 2.411300607496897, 26.386722700549658, 1.4626392099092904, 1.6967938512842287, 2.040339387648194, 1.147469749373589, 1.499124527224568, 1.0773690307954717]\n",
      "Max vif  1\n",
      "Iteration no  6\n",
      "[14.571281815601344, 16.125616203385583, 2.3311570665789314, 20.799085855310146, 1.4548051853813906, 1.6744006925304469, 1.978335453362631, 1.13840665468076, 1.489338398727888, 1.0647607756260984]\n",
      "Max vif  3\n",
      "Iteration no  7\n",
      "[3.03122206864031, 1.3957570126395402, 1.5036829171227422, 1.451505437682741, 1.6219832697533154, 1.9110849874631988, 1.0777353562906224, 1.2721805566296183, 1.0614505977280613]\n",
      "Max vif  0\n"
     ]
    },
    {
     "data": {
      "text/html": [
       "<div>\n",
       "<style scoped>\n",
       "    .dataframe tbody tr th:only-of-type {\n",
       "        vertical-align: middle;\n",
       "    }\n",
       "\n",
       "    .dataframe tbody tr th {\n",
       "        vertical-align: top;\n",
       "    }\n",
       "\n",
       "    .dataframe thead th {\n",
       "        text-align: right;\n",
       "    }\n",
       "</style>\n",
       "<table border=\"1\" class=\"dataframe\">\n",
       "  <thead>\n",
       "    <tr style=\"text-align: right;\">\n",
       "      <th></th>\n",
       "      <th>GDPC1</th>\n",
       "      <th>UNRATE</th>\n",
       "      <th>VIXCLS</th>\n",
       "      <th>prob_topic_1</th>\n",
       "      <th>prob_topic_2</th>\n",
       "      <th>prob_topic_3</th>\n",
       "      <th>prob_topic_5</th>\n",
       "      <th>prob_topic_6</th>\n",
       "      <th>sentiments</th>\n",
       "    </tr>\n",
       "  </thead>\n",
       "  <tbody>\n",
       "    <tr>\n",
       "      <th>0</th>\n",
       "      <td>-1.103399</td>\n",
       "      <td>-1.100801</td>\n",
       "      <td>-0.840487</td>\n",
       "      <td>-0.407507</td>\n",
       "      <td>1.119808</td>\n",
       "      <td>-0.574050</td>\n",
       "      <td>-0.058876</td>\n",
       "      <td>0.637844</td>\n",
       "      <td>-0.689491</td>\n",
       "    </tr>\n",
       "    <tr>\n",
       "      <th>1</th>\n",
       "      <td>-1.103399</td>\n",
       "      <td>-1.153862</td>\n",
       "      <td>-0.915065</td>\n",
       "      <td>-0.181225</td>\n",
       "      <td>-0.502167</td>\n",
       "      <td>-0.837411</td>\n",
       "      <td>-0.295280</td>\n",
       "      <td>-0.594907</td>\n",
       "      <td>-0.086186</td>\n",
       "    </tr>\n",
       "    <tr>\n",
       "      <th>2</th>\n",
       "      <td>-1.057360</td>\n",
       "      <td>-1.153862</td>\n",
       "      <td>-0.899308</td>\n",
       "      <td>-0.404853</td>\n",
       "      <td>0.915345</td>\n",
       "      <td>-0.807628</td>\n",
       "      <td>-0.178089</td>\n",
       "      <td>-0.106040</td>\n",
       "      <td>-0.086186</td>\n",
       "    </tr>\n",
       "    <tr>\n",
       "      <th>3</th>\n",
       "      <td>-1.057360</td>\n",
       "      <td>-1.206923</td>\n",
       "      <td>-0.626542</td>\n",
       "      <td>-0.416498</td>\n",
       "      <td>1.309635</td>\n",
       "      <td>-0.702080</td>\n",
       "      <td>1.240864</td>\n",
       "      <td>0.306363</td>\n",
       "      <td>-0.086186</td>\n",
       "    </tr>\n",
       "    <tr>\n",
       "      <th>4</th>\n",
       "      <td>-1.057360</td>\n",
       "      <td>-1.206923</td>\n",
       "      <td>-0.373138</td>\n",
       "      <td>0.129707</td>\n",
       "      <td>-0.530395</td>\n",
       "      <td>-0.837521</td>\n",
       "      <td>-0.319741</td>\n",
       "      <td>-0.649255</td>\n",
       "      <td>3.533643</td>\n",
       "    </tr>\n",
       "  </tbody>\n",
       "</table>\n",
       "</div>"
      ],
      "text/plain": [
       "      GDPC1    UNRATE    VIXCLS  prob_topic_1  prob_topic_2  prob_topic_3  \\\n",
       "0 -1.103399 -1.100801 -0.840487     -0.407507      1.119808     -0.574050   \n",
       "1 -1.103399 -1.153862 -0.915065     -0.181225     -0.502167     -0.837411   \n",
       "2 -1.057360 -1.153862 -0.899308     -0.404853      0.915345     -0.807628   \n",
       "3 -1.057360 -1.206923 -0.626542     -0.416498      1.309635     -0.702080   \n",
       "4 -1.057360 -1.206923 -0.373138      0.129707     -0.530395     -0.837521   \n",
       "\n",
       "   prob_topic_5  prob_topic_6  sentiments  \n",
       "0     -0.058876      0.637844   -0.689491  \n",
       "1     -0.295280     -0.594907   -0.086186  \n",
       "2     -0.178089     -0.106040   -0.086186  \n",
       "3      1.240864      0.306363   -0.086186  \n",
       "4     -0.319741     -0.649255    3.533643  "
      ]
     },
     "execution_count": 326,
     "metadata": {},
     "output_type": "execute_result"
    }
   ],
   "source": [
    "def cal_vif(x):\n",
    "    thresh = 5\n",
    "    output = pd.DataFrame()\n",
    "    k = x.shape[1]\n",
    "    vif = [variance_inflation_factor(x.values, i) for i in range(x.shape[1])]\n",
    "    for i in range(1, k):\n",
    "        print('Iteration no ', i)\n",
    "        print(vif)\n",
    "        a = np.argmax(vif)\n",
    "        print('Max vif ', a)\n",
    "        if vif[a] <= thresh:\n",
    "            break\n",
    "        if i == 1:\n",
    "            output = x.drop(x.columns[a], axis=1)\n",
    "            vif = [variance_inflation_factor(output.values, j) for j in range(output.shape[1])]\n",
    "        elif i > 1:\n",
    "            output = output.drop(output.columns[a], axis=1)\n",
    "            vif = [variance_inflation_factor(output.values, j) for j in range(output.shape[1])]\n",
    "    return output\n",
    "\n",
    "x = pd.DataFrame(X_train_norm)\n",
    "selected_features = cal_vif(x)\n",
    "selected_features.head()"
   ]
  },
  {
   "cell_type": "code",
   "execution_count": 344,
   "metadata": {},
   "outputs": [
    {
     "name": "stdout",
     "output_type": "stream",
     "text": [
      "Iteration no  1\n",
      "[90.68963078004354, 41.83842849602714, 95.18602330100406, 94.47896070537455, 55.46245587145537, 62.696002341960615, 3.1765934108137728, 41.67384198987408, 2488.0871599810243, 84179432287298.98, 166799986198907.25, 225179981368524.8, 7778237698394.639, 59650326190337.695, 1.1438890160667734]\n",
      "Max vif  11\n",
      "Iteration no  2\n",
      "[89.61544095049483, 41.762514753796566, 93.47466583387033, 94.46331092324097, 55.403458682010054, 62.69168117072353, 3.163421854182282, 40.65693136134039, 1.494150323145746, 2.084774403858053, 2.1300327278686244, 1.1625055872340733, 1.5298251646974554, 1.1388614999778393]\n",
      "Max vif  3\n",
      "Iteration no  3\n",
      "[51.33602206925491, 37.41771502072303, 26.530678115346557, 46.307891909425585, 61.858061665912075, 2.9676707126971946, 40.20592630738528, 1.47312185340926, 2.061746631237053, 2.1187238752665176, 1.157214819633932, 1.5188233590334097, 1.0786378906853349]\n",
      "Max vif  4\n",
      "Iteration no  4\n",
      "[35.10080410951239, 35.849980473666236, 18.784963391134035, 42.288795219860106, 2.9558175413709957, 37.61879761413738, 1.4729165623341565, 1.8883496577530012, 2.0578003876717066, 1.149426234812092, 1.5063510554570572, 1.0785825933264783]\n",
      "Max vif  3\n",
      "Iteration no  5\n",
      "[25.349953185077563, 27.184316601727005, 16.153402518604878, 2.411300607496897, 26.386722700549658, 1.4626392099092904, 1.6967938512842287, 2.040339387648194, 1.147469749373589, 1.499124527224568, 1.0773690307954717]\n",
      "Max vif  1\n",
      "Iteration no  6\n",
      "[14.571281815601344, 16.125616203385583, 2.3311570665789314, 20.799085855310146, 1.4548051853813906, 1.6744006925304469, 1.978335453362631, 1.13840665468076, 1.489338398727888, 1.0647607756260984]\n",
      "Max vif  3\n",
      "Iteration no  7\n",
      "[3.03122206864031, 1.3957570126395402, 1.5036829171227422, 1.451505437682741, 1.6219832697533154, 1.9110849874631988, 1.0777353562906224, 1.2721805566296183, 1.0614505977280613]\n",
      "Max vif  0\n"
     ]
    },
    {
     "data": {
      "text/html": [
       "<div>\n",
       "<style scoped>\n",
       "    .dataframe tbody tr th:only-of-type {\n",
       "        vertical-align: middle;\n",
       "    }\n",
       "\n",
       "    .dataframe tbody tr th {\n",
       "        vertical-align: top;\n",
       "    }\n",
       "\n",
       "    .dataframe thead th {\n",
       "        text-align: right;\n",
       "    }\n",
       "</style>\n",
       "<table border=\"1\" class=\"dataframe\">\n",
       "  <thead>\n",
       "    <tr style=\"text-align: right;\">\n",
       "      <th></th>\n",
       "      <th>GDPC1</th>\n",
       "      <th>UNRATE</th>\n",
       "      <th>VIXCLS</th>\n",
       "      <th>prob_topic_1</th>\n",
       "      <th>prob_topic_2</th>\n",
       "      <th>prob_topic_3</th>\n",
       "      <th>prob_topic_5</th>\n",
       "      <th>prob_topic_6</th>\n",
       "      <th>sentiments</th>\n",
       "    </tr>\n",
       "  </thead>\n",
       "  <tbody>\n",
       "    <tr>\n",
       "      <th>0</th>\n",
       "      <td>-1.103399</td>\n",
       "      <td>-1.100801</td>\n",
       "      <td>-0.840487</td>\n",
       "      <td>-0.407507</td>\n",
       "      <td>1.119808</td>\n",
       "      <td>-0.574050</td>\n",
       "      <td>-0.058876</td>\n",
       "      <td>0.637844</td>\n",
       "      <td>-0.689491</td>\n",
       "    </tr>\n",
       "    <tr>\n",
       "      <th>1</th>\n",
       "      <td>-1.103399</td>\n",
       "      <td>-1.153862</td>\n",
       "      <td>-0.915065</td>\n",
       "      <td>-0.181225</td>\n",
       "      <td>-0.502167</td>\n",
       "      <td>-0.837411</td>\n",
       "      <td>-0.295280</td>\n",
       "      <td>-0.594907</td>\n",
       "      <td>-0.086186</td>\n",
       "    </tr>\n",
       "    <tr>\n",
       "      <th>2</th>\n",
       "      <td>-1.057360</td>\n",
       "      <td>-1.153862</td>\n",
       "      <td>-0.899308</td>\n",
       "      <td>-0.404853</td>\n",
       "      <td>0.915345</td>\n",
       "      <td>-0.807628</td>\n",
       "      <td>-0.178089</td>\n",
       "      <td>-0.106040</td>\n",
       "      <td>-0.086186</td>\n",
       "    </tr>\n",
       "    <tr>\n",
       "      <th>3</th>\n",
       "      <td>-1.057360</td>\n",
       "      <td>-1.206923</td>\n",
       "      <td>-0.626542</td>\n",
       "      <td>-0.416498</td>\n",
       "      <td>1.309635</td>\n",
       "      <td>-0.702080</td>\n",
       "      <td>1.240864</td>\n",
       "      <td>0.306363</td>\n",
       "      <td>-0.086186</td>\n",
       "    </tr>\n",
       "    <tr>\n",
       "      <th>4</th>\n",
       "      <td>-1.057360</td>\n",
       "      <td>-1.206923</td>\n",
       "      <td>-0.373138</td>\n",
       "      <td>0.129707</td>\n",
       "      <td>-0.530395</td>\n",
       "      <td>-0.837521</td>\n",
       "      <td>-0.319741</td>\n",
       "      <td>-0.649255</td>\n",
       "      <td>3.533643</td>\n",
       "    </tr>\n",
       "  </tbody>\n",
       "</table>\n",
       "</div>"
      ],
      "text/plain": [
       "      GDPC1    UNRATE    VIXCLS  prob_topic_1  prob_topic_2  prob_topic_3  \\\n",
       "0 -1.103399 -1.100801 -0.840487     -0.407507      1.119808     -0.574050   \n",
       "1 -1.103399 -1.153862 -0.915065     -0.181225     -0.502167     -0.837411   \n",
       "2 -1.057360 -1.153862 -0.899308     -0.404853      0.915345     -0.807628   \n",
       "3 -1.057360 -1.206923 -0.626542     -0.416498      1.309635     -0.702080   \n",
       "4 -1.057360 -1.206923 -0.373138      0.129707     -0.530395     -0.837521   \n",
       "\n",
       "   prob_topic_5  prob_topic_6  sentiments  \n",
       "0     -0.058876      0.637844   -0.689491  \n",
       "1     -0.295280     -0.594907   -0.086186  \n",
       "2     -0.178089     -0.106040   -0.086186  \n",
       "3      1.240864      0.306363   -0.086186  \n",
       "4     -0.319741     -0.649255    3.533643  "
      ]
     },
     "execution_count": 344,
     "metadata": {},
     "output_type": "execute_result"
    }
   ],
   "source": [
    "from statsmodels.stats.outliers_influence import variance_inflation_factor\n",
    "def cal_vif(x):\n",
    "    thresh = 4\n",
    "    output = pd.DataFrame()\n",
    "    k = x.shape[1]\n",
    "    vif = [variance_inflation_factor(x.values, i) for i in range(x.shape[1])]\n",
    "    for i in range(1, k):\n",
    "        print('Iteration no ', i)\n",
    "        print(vif)\n",
    "        a = np.argmax(vif)\n",
    "        print('Max vif ', a)\n",
    "        if vif[a] <= thresh:\n",
    "            break\n",
    "        if i == 1:\n",
    "            output = x.drop(x.columns[a], axis=1)\n",
    "            vif = [variance_inflation_factor(output.values, j) for j in range(output.shape[1])]\n",
    "        elif i > 1:\n",
    "            output = output.drop(output.columns[a], axis=1)\n",
    "            vif = [variance_inflation_factor(output.values, j) for j in range(output.shape[1])]\n",
    "    return output\n",
    "\n",
    "x = pd.DataFrame(X_train_norm)\n",
    "selected_features = cal_vif(x)\n",
    "selected_features.head()"
   ]
  },
  {
   "cell_type": "code",
   "execution_count": 164,
   "metadata": {},
   "outputs": [],
   "source": [
    "rf_clf = RandomForestClassifier().fit(X_train_norm, y_train)"
   ]
  },
  {
   "cell_type": "code",
   "execution_count": 165,
   "metadata": {},
   "outputs": [
    {
     "data": {
      "text/plain": [
       "array([0.06005395, 0.06972532, 0.05313757, 0.07049081, 0.06934448,\n",
       "       0.05271901, 0.0879085 , 0.06661225, 0.06662449, 0.08876962,\n",
       "       0.08602379, 0.07414888, 0.06887704, 0.05299434, 0.03256994])"
      ]
     },
     "execution_count": 165,
     "metadata": {},
     "output_type": "execute_result"
    }
   ],
   "source": [
    "rf_clf.feature_importances_"
   ]
  },
  {
   "cell_type": "code",
   "execution_count": 166,
   "metadata": {},
   "outputs": [],
   "source": [
    "importance = rf_clf.feature_importances_"
   ]
  },
  {
   "cell_type": "code",
   "execution_count": 175,
   "metadata": {},
   "outputs": [
    {
     "name": "stdout",
     "output_type": "stream",
     "text": [
      "Feature: 0, Score: 0.06005\n",
      "Feature: 1, Score: 0.06973\n",
      "Feature: 2, Score: 0.05314\n",
      "Feature: 3, Score: 0.07049\n",
      "Feature: 4, Score: 0.06934\n",
      "Feature: 5, Score: 0.05272\n",
      "Feature: 6, Score: 0.08791\n",
      "Feature: 7, Score: 0.06661\n",
      "Feature: 8, Score: 0.06662\n",
      "Feature: 9, Score: 0.08877\n",
      "Feature: 10, Score: 0.08602\n",
      "Feature: 11, Score: 0.07415\n",
      "Feature: 12, Score: 0.06888\n",
      "Feature: 13, Score: 0.05299\n",
      "Feature: 14, Score: 0.03257\n"
     ]
    },
    {
     "data": {
      "image/png": "[encoded data removed]",
      "text/plain": [
       "<Figure size 1080x576 with 1 Axes>"
      ]
     },
     "metadata": {
      "needs_background": "light"
     },
     "output_type": "display_data"
    }
   ],
   "source": [
    "# summarize feature importance\n",
    "for i,v in enumerate(importance):\n",
    "    print('Feature: %0d, Score: %.5f' % (i,v))\n",
    "# plot feature importance\n",
    "plt.figure(figsize=(15,8))\n",
    "plt.bar([final_df.columns[x] for x in range(len(importance))], importance)\n",
    "plt.show()"
   ]
  },
  {
   "cell_type": "code",
   "execution_count": 169,
   "metadata": {},
   "outputs": [],
   "source": [
    "from info_gain import info_gain"
   ]
  },
  {
   "cell_type": "code",
   "execution_count": 171,
   "metadata": {},
   "outputs": [],
   "source": [
    "cols = final_df.iloc[:, :-1].columns\n",
    "igr_list = []\n",
    "for col in cols:\n",
    "    key_value = [col]\n",
    "    igr = info_gain.info_gain_ratio(\n",
    "        final_df['target'].values.tolist(), \n",
    "        final_df[col].values.tolist())\n",
    "    key_value.append(igr)\n",
    "    igr_list.append(key_value)\n",
    "igr_list = sorted(igr_list, key=lambda x: x[1], reverse=True)"
   ]
  },
  {
   "cell_type": "code",
   "execution_count": 172,
   "metadata": {},
   "outputs": [
    {
     "data": {
      "text/plain": [
       "[['CPIAUCSL', 0.14289734153473],\n",
       " ['RRSFS', 0.1424762725758933],\n",
       " ['prob_topic_1', 0.1424762725758933],\n",
       " ['prob_topic_2', 0.1424762725758933],\n",
       " ['prob_topic_3', 0.1424762725758933],\n",
       " ['prob_topic_4', 0.1424762725758933],\n",
       " ['prob_topic_5', 0.1424762725758933],\n",
       " ['prob_topic_6', 0.1424762725758933],\n",
       " ['PAYEMS', 0.14166375728218206],\n",
       " ['VIXCLS', 0.14166375728218206],\n",
       " ['DFF', 0.14065596890528995],\n",
       " ['GDPC1', 0.10108780402805446],\n",
       " ['GFDEBTN', 0.09381973062759424],\n",
       " ['UNRATE', 0.09050002536674114],\n",
       " ['sentiments', 0.027409347810619843]]"
      ]
     },
     "execution_count": 172,
     "metadata": {},
     "output_type": "execute_result"
    }
   ],
   "source": [
    "igr_list"
   ]
  },
  {
   "cell_type": "code",
   "execution_count": 173,
   "metadata": {},
   "outputs": [
    {
     "data": {
      "image/png": "[encoded data removed]",
      "text/plain": [
       "<Figure size 864x576 with 1 Axes>"
      ]
     },
     "metadata": {
      "needs_background": "light"
     },
     "output_type": "display_data"
    }
   ],
   "source": [
    "plt.figure(figsize=(12,8))\n",
    "ax = sns.barplot(x=\"Features\", \n",
    "                 y=\"Information Gain Ratio\", \n",
    "                 data=pd.DataFrame(igr_list, \n",
    "                                   columns=['Features', \n",
    "                                            'Information Gain Ratio']))\n",
    "plt.xticks(rotation='vertical')\n",
    "ax.grid(b=True, which='major', color='#d3d3d3', linewidth=1.0)\n",
    "ax.grid(b=True, which='minor', color='#d3d3d3', linewidth=0.5)\n",
    "plt.show()"
   ]
  },
  {
   "cell_type": "code",
   "execution_count": null,
   "metadata": {},
   "outputs": [],
   "source": []
  },
  {
   "cell_type": "code",
   "execution_count": 230,
   "metadata": {},
   "outputs": [],
   "source": [
    "igr_top_3 = [x[0] for x in igr_list][:3]"
   ]
  },
  {
   "cell_type": "code",
   "execution_count": 231,
   "metadata": {},
   "outputs": [],
   "source": [
    "vif_top_3 = [i for i in final_df.columns for x in list(selected_features.columns) if i == x][:3]"
   ]
  },
  {
   "cell_type": "code",
   "execution_count": 232,
   "metadata": {},
   "outputs": [],
   "source": [
    "indices = np.argsort(rf_clf.feature_importances_)[::-1] # increasing order\n",
    "rf_top_3 = [final_df.columns[x] for x in indices][:3]"
   ]
  },
  {
   "cell_type": "code",
   "execution_count": 233,
   "metadata": {},
   "outputs": [
    {
     "data": {
      "text/plain": [
       "['CPIAUCSL',\n",
       " 'RRSFS',\n",
       " 'prob_topic_1',\n",
       " 'GDPC1',\n",
       " 'UNRATE',\n",
       " 'VIXCLS',\n",
       " 'prob_topic_2',\n",
       " 'prob_topic_3']"
      ]
     },
     "execution_count": 233,
     "metadata": {},
     "output_type": "execute_result"
    }
   ],
   "source": [
    "final_set = []\n",
    "for i in igr_top_3:\n",
    "    if i not in final_set:\n",
    "        final_set.append(i)\n",
    "for j in vif_top_3:\n",
    "    if j not in final_set:\n",
    "        final_set.append(j)\n",
    "for k in rf_top_3:\n",
    "    if k not in final_set:\n",
    "        final_set.append(k)\n",
    "final_set"
   ]
  },
  {
   "cell_type": "code",
   "execution_count": 237,
   "metadata": {},
   "outputs": [],
   "source": [
    "igr_top_1 = [x[0] for x in igr_list][0]"
   ]
  },
  {
   "cell_type": "code",
   "execution_count": 238,
   "metadata": {},
   "outputs": [],
   "source": [
    "vif_top_1 = [i for i in final_df.columns for x in list(selected_features.columns) if i == x][0]"
   ]
  },
  {
   "cell_type": "code",
   "execution_count": 239,
   "metadata": {},
   "outputs": [],
   "source": [
    "indices = np.argsort(rf_clf.feature_importances_)[::-1] # increasing order\n",
    "rf_top_1 = [final_df.columns[x] for x in indices][0]"
   ]
  },
  {
   "cell_type": "code",
   "execution_count": 240,
   "metadata": {},
   "outputs": [],
   "source": [
    "final_set_1=[igr_top_1, vif_top_1, rf_top_1]"
   ]
  },
  {
   "cell_type": "code",
   "execution_count": 279,
   "metadata": {},
   "outputs": [
    {
     "data": {
      "text/plain": [
       "['CPIAUCSL', 'GDPC1', 'prob_topic_2', 'target']"
      ]
     },
     "execution_count": 279,
     "metadata": {},
     "output_type": "execute_result"
    }
   ],
   "source": [
    "final_set_1"
   ]
  },
  {
   "cell_type": "code",
   "execution_count": 252,
   "metadata": {},
   "outputs": [],
   "source": [
    "my_set = ['VIXCLS', 'prob_topic_2']\n",
    "my_set.append('target')\n",
    "df_fs = final_df[my_set]\n",
    "X = df_fs.drop(columns=['target'])\n",
    "y = df_fs.target"
   ]
  },
  {
   "cell_type": "code",
   "execution_count": 241,
   "metadata": {},
   "outputs": [],
   "source": [
    "final_set_1.append('target')\n",
    "df_fs = final_df[final_set]\n",
    "X = df_fs.drop(columns=['target'])\n",
    "y = df_fs.target"
   ]
  },
  {
   "cell_type": "code",
   "execution_count": 234,
   "metadata": {},
   "outputs": [],
   "source": [
    "final_set.append('target')\n",
    "df_fs = final_df[final_set]\n",
    "X = df_fs.drop(columns=['target'])\n",
    "y = df_fs.target"
   ]
  },
  {
   "cell_type": "code",
   "execution_count": 253,
   "metadata": {},
   "outputs": [],
   "source": [
    "results_fs = []\n",
    "# classifier_name_fs = []\n",
    "tscv = TimeSeriesSplit(n_splits=5)\n",
    "all_y_preds = []\n",
    "all_y_true = []\n",
    "clf = SVC(random_state=1)\n",
    "for train_index, test_index in tscv.split(X):\n",
    "    X_train, X_test = X[train_index[0]:train_index[-1]+1], X[test_index[0]:test_index[-1]+1]\n",
    "    y_train, y_test = y[train_index[0]:train_index[-1]+1], y[test_index[0]:test_index[-1]+1]\n",
    "    clf.fit(X_train, y_train)\n",
    "    y_preds = clf.predict(X_test)\n",
    "    all_y_preds.extend(y_preds)\n",
    "    all_y_true.extend(y_test)\n",
    "results_fs.append(f1_score(all_y_true,all_y_preds, average='weighted'))\n",
    "# classifier_name_fs.append(classifier[0])"
   ]
  },
  {
   "cell_type": "code",
   "execution_count": 250,
   "metadata": {},
   "outputs": [
    {
     "data": {
      "text/plain": [
       "[0.3537441860465116]"
      ]
     },
     "execution_count": 250,
     "metadata": {},
     "output_type": "execute_result"
    }
   ],
   "source": [
    "results_fs"
   ]
  },
  {
   "cell_type": "code",
   "execution_count": 254,
   "metadata": {},
   "outputs": [
    {
     "data": {
      "text/plain": [
       "[0.3537441860465116]"
      ]
     },
     "execution_count": 254,
     "metadata": {},
     "output_type": "execute_result"
    }
   ],
   "source": [
    "results_fs"
   ]
  },
  {
   "cell_type": "code",
   "execution_count": 264,
   "metadata": {},
   "outputs": [],
   "source": [
    "results_fs = []\n",
    "# classifier_name_fs = []\n",
    "tscv = TimeSeriesSplit(n_splits=5)\n",
    "all_y_preds = []\n",
    "all_y_true = []\n",
    "for train_index, test_index in tscv.split(X):\n",
    "    X_train, X_test = X[train_index[0]:train_index[-1]+1], X[test_index[0]:test_index[-1]+1]\n",
    "    y_train, y_test = y[train_index[0]:train_index[-1]+1], y[test_index[0]:test_index[-1]+1]\n",
    "    clf.fit(X_train, y_train)\n",
    "    y_preds = clf.predict(X_test)\n",
    "    all_y_preds.extend(y_preds)\n",
    "    all_y_true.extend(y_test)\n",
    "results_fs.append(f1_score(all_y_true,all_y_preds, average='weighted'))\n",
    "# classifier_name_fs.append(classifier[0])"
   ]
  },
  {
   "cell_type": "code",
   "execution_count": 265,
   "metadata": {},
   "outputs": [
    {
     "data": {
      "text/plain": [
       "[0.3193233082706766]"
      ]
     },
     "execution_count": 265,
     "metadata": {},
     "output_type": "execute_result"
    }
   ],
   "source": [
    "results_fs"
   ]
  },
  {
   "cell_type": "code",
   "execution_count": 356,
   "metadata": {},
   "outputs": [],
   "source": [
    "base_learners = [(\"SVC\", SVC(random_state=1)),\n",
    "                 (\"Decision Tree\", DecisionTreeClassifier(random_state=1)),\n",
    "                 (\"Logistic Regression\", LogisticRegression(random_state=1))]"
   ]
  },
  {
   "cell_type": "code",
   "execution_count": 357,
   "metadata": {},
   "outputs": [],
   "source": [
    "clf = StackingClassifier(estimators=base_learners, final_estimator=DecisionTreeClassifier(random_state=1))"
   ]
  },
  {
   "cell_type": "code",
   "execution_count": 337,
   "metadata": {},
   "outputs": [],
   "source": [
    "clf = StackingClassifier(estimators=base_learners, final_estimator=LogisticRegression(random_state=1))"
   ]
  },
  {
   "cell_type": "code",
   "execution_count": 358,
   "metadata": {},
   "outputs": [],
   "source": [
    "y_pred = clf.fit(X_train.iloc[:,[0,2,6,8,9,10,12]], y_train).predict(X_test.iloc[:,[0,2,6,8,9,10,12]])"
   ]
  },
  {
   "cell_type": "code",
   "execution_count": 338,
   "metadata": {},
   "outputs": [
    {
     "name": "stderr",
     "output_type": "stream",
     "text": [
      "C:\\Users\\jorda\\anaconda3\\lib\\site-packages\\sklearn\\linear_model\\_logistic.py:764: ConvergenceWarning: lbfgs failed to converge (status=1):\n",
      "STOP: TOTAL NO. of ITERATIONS REACHED LIMIT.\n",
      "\n",
      "Increase the number of iterations (max_iter) or scale the data as shown in:\n",
      "    https://scikit-learn.org/stable/modules/preprocessing.html\n",
      "Please also refer to the documentation for alternative solver options:\n",
      "    https://scikit-learn.org/stable/modules/linear_model.html#logistic-regression\n",
      "  extra_warning_msg=_LOGISTIC_SOLVER_CONVERGENCE_MSG)\n",
      "C:\\Users\\jorda\\anaconda3\\lib\\site-packages\\sklearn\\linear_model\\_logistic.py:764: ConvergenceWarning: lbfgs failed to converge (status=1):\n",
      "STOP: TOTAL NO. of ITERATIONS REACHED LIMIT.\n",
      "\n",
      "Increase the number of iterations (max_iter) or scale the data as shown in:\n",
      "    https://scikit-learn.org/stable/modules/preprocessing.html\n",
      "Please also refer to the documentation for alternative solver options:\n",
      "    https://scikit-learn.org/stable/modules/linear_model.html#logistic-regression\n",
      "  extra_warning_msg=_LOGISTIC_SOLVER_CONVERGENCE_MSG)\n",
      "C:\\Users\\jorda\\anaconda3\\lib\\site-packages\\sklearn\\linear_model\\_logistic.py:764: ConvergenceWarning: lbfgs failed to converge (status=1):\n",
      "STOP: TOTAL NO. of ITERATIONS REACHED LIMIT.\n",
      "\n",
      "Increase the number of iterations (max_iter) or scale the data as shown in:\n",
      "    https://scikit-learn.org/stable/modules/preprocessing.html\n",
      "Please also refer to the documentation for alternative solver options:\n",
      "    https://scikit-learn.org/stable/modules/linear_model.html#logistic-regression\n",
      "  extra_warning_msg=_LOGISTIC_SOLVER_CONVERGENCE_MSG)\n",
      "C:\\Users\\jorda\\anaconda3\\lib\\site-packages\\sklearn\\linear_model\\_logistic.py:764: ConvergenceWarning: lbfgs failed to converge (status=1):\n",
      "STOP: TOTAL NO. of ITERATIONS REACHED LIMIT.\n",
      "\n",
      "Increase the number of iterations (max_iter) or scale the data as shown in:\n",
      "    https://scikit-learn.org/stable/modules/preprocessing.html\n",
      "Please also refer to the documentation for alternative solver options:\n",
      "    https://scikit-learn.org/stable/modules/linear_model.html#logistic-regression\n",
      "  extra_warning_msg=_LOGISTIC_SOLVER_CONVERGENCE_MSG)\n"
     ]
    }
   ],
   "source": [
    "y_pred = clf.fit(X_train.iloc[:,[6,7,8,9,10,12,13,14]], y_train).predict(X_test.iloc[:,[6,7,8,9,10,12,13,14]])"
   ]
  },
  {
   "cell_type": "code",
   "execution_count": 140,
   "metadata": {},
   "outputs": [],
   "source": [
    "y_pred = clf.fit(X_train, y_train).predict(X_test)"
   ]
  },
  {
   "cell_type": "code",
   "execution_count": 97,
   "metadata": {},
   "outputs": [],
   "source": [
    "from sklearn.metrics import classification_report"
   ]
  },
  {
   "cell_type": "code",
   "execution_count": 359,
   "metadata": {},
   "outputs": [
    {
     "name": "stdout",
     "output_type": "stream",
     "text": [
      "              precision    recall  f1-score   support\n",
      "\n",
      "          -1       0.00      0.00      0.00         8\n",
      "           0       0.44      0.46      0.45        24\n",
      "           1       0.43      0.57      0.49        23\n",
      "\n",
      "    accuracy                           0.44        55\n",
      "   macro avg       0.29      0.34      0.31        55\n",
      "weighted avg       0.37      0.44      0.40        55\n",
      "\n"
     ]
    },
    {
     "name": "stderr",
     "output_type": "stream",
     "text": [
      "C:\\Users\\jorda\\anaconda3\\lib\\site-packages\\sklearn\\metrics\\_classification.py:1221: UndefinedMetricWarning: Precision and F-score are ill-defined and being set to 0.0 in labels with no predicted samples. Use `zero_division` parameter to control this behavior.\n",
      "  _warn_prf(average, modifier, msg_start, len(result))\n"
     ]
    }
   ],
   "source": [
    "print(classification_report(y_test, y_pred))"
   ]
  },
  {
   "cell_type": "code",
   "execution_count": null,
   "metadata": {},
   "outputs": [],
   "source": []
  }
 ],
 "metadata": {
  "kernelspec": {
   "display_name": "Python 3",
   "language": "python",
   "name": "python3"
  },
  "language_info": {
   "codemirror_mode": {
    "name": "ipython",
    "version": 3
   },
   "file_extension": ".py",
   "mimetype": "text/x-python",
   "name": "python",
   "nbconvert_exporter": "python",
   "pygments_lexer": "ipython3",
   "version": "3.7.6"
  }
 },
 "nbformat": 4,
 "nbformat_minor": 4
}