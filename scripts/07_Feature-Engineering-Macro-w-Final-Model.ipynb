{
 "cells": [
  {
   "cell_type": "markdown",
   "metadata": {},
   "source": [
    "# 07"
   ]
  },
  {
   "cell_type": "code",
   "execution_count": null,
   "metadata": {},
   "outputs": [],
   "source": [
    "import pandas as pd"
   ]
  },
  {
   "cell_type": "code",
   "execution_count": null,
   "metadata": {},
   "outputs": [],
   "source": [
    "df = pd.read_csv('../data/combined/combined.csv')"
   ]
  },
  {
   "cell_type": "code",
   "execution_count": null,
   "metadata": {},
   "outputs": [],
   "source": [
    "df.head(10)"
   ]
  },
  {
   "cell_type": "markdown",
   "metadata": {},
   "source": [
    "## Feature Engineering Macro Data"
   ]
  },
  {
   "cell_type": "code",
   "execution_count": null,
   "metadata": {},
   "outputs": [],
   "source": [
    "df.columns"
   ]
  },
  {
   "cell_type": "code",
   "execution_count": null,
   "metadata": {},
   "outputs": [],
   "source": [
    "macro_columns = ['GDPC1',\n",
    "                'CPIAUCSL',\n",
    "                'UNRATE',\n",
    "                'PAYEMS',\n",
    "                'RRSFS',\n",
    "                'GFDEBTN',\n",
    "                'VIXCLS']"
   ]
  },
  {
   "cell_type": "code",
   "execution_count": null,
   "metadata": {},
   "outputs": [],
   "source": [
    "for col in macro_columns:\n",
    "    # percentage difference\n",
    "    diff = (df[col].diff() / df[col].shift(1)) * 100\n",
    "    diff_idx = df.columns.get_loc(col) + 1\n",
    "    \n",
    "    df.insert(loc=diff_idx, column=f'{col}_diff', value=diff)\n",
    "    \n",
    "    # simple moving averages (SMA 3, 5)\n",
    "    sma_3 = df[col].rolling(window=3).mean()\n",
    "    sma_5 = df[col].rolling(window=5).mean()\n",
    "    sma_3_idx = diff_idx + 1\n",
    "    sma_5_idx = sma_3_idx + 1\n",
    "    \n",
    "    df.insert(loc=sma_3_idx, column=f'{col}_sma_3', value=sma_3)\n",
    "    df.insert(loc=sma_5_idx, column=f'{col}_sma_5', value=sma_5)\n",
    "    \n",
    "    # exponential weighted moving average\n",
    "    ewm = df[col].ewm(span=40, adjust=False).mean()\n",
    "    ewm_idx = sma_5_idx + 1\n",
    "    \n",
    "    df.insert(loc=ewm_idx, column=f'{col}_ewm', value=ewm)\n",
    "    \n",
    "df = df.dropna().reset_index(drop=True)"
   ]
  },
  {
   "cell_type": "code",
   "execution_count": null,
   "metadata": {},
   "outputs": [],
   "source": [
    "df.head(10)"
   ]
  },
  {
   "cell_type": "code",
   "execution_count": null,
   "metadata": {},
   "outputs": [],
   "source": []
  }
 ],
 "metadata": {
  "kernelspec": {
   "display_name": "Python 3",
   "language": "python",
   "name": "python3"
  },
  "language_info": {
   "codemirror_mode": {
    "name": "ipython",
    "version": 3
   },
   "file_extension": ".py",
   "mimetype": "text/x-python",
   "name": "python",
   "nbconvert_exporter": "python",
   "pygments_lexer": "ipython3",
   "version": "3.7.3"
  }
 },
 "nbformat": 4,
 "nbformat_minor": 4
}
