{
 "cells": [
  {
   "cell_type": "markdown",
   "metadata": {},
   "source": [
    "# Baseline Classification with Macro Data"
   ]
  },
  {
   "cell_type": "code",
   "execution_count": 1,
   "metadata": {},
   "outputs": [],
   "source": [
    "import matplotlib.pyplot as plt\n",
    "import numpy as np\n",
    "import pandas as pd\n",
    "import seaborn as sns\n",
    "# feature selection\n",
    "from info_gain import info_gain\n",
    "from sklearn.ensemble import RandomForestClassifier\n",
    "from sklearn.linear_model import LogisticRegression\n",
    "from sklearn.metrics import f1_score\n",
    "from sklearn.model_selection import TimeSeriesSplit, train_test_split\n",
    "from sklearn.preprocessing import StandardScaler\n",
    "# models\n",
    "from sklearn.svm import SVC\n",
    "from sklearn.tree import DecisionTreeClassifier\n",
    "from statsmodels.stats.outliers_influence import variance_inflation_factor"
   ]
  },
  {
   "cell_type": "markdown",
   "metadata": {},
   "source": [
    "### Macro Data Preprocessing"
   ]
  },
  {
   "cell_type": "code",
   "execution_count": 112,
   "metadata": {},
   "outputs": [],
   "source": [
    "df = pd.read_csv('raw_data.txt')"
   ]
  },
  {
   "cell_type": "code",
   "execution_count": 113,
   "metadata": {},
   "outputs": [
    {
     "data": {
      "text/html": [
       "<div>\n",
       "<style scoped>\n",
       "    .dataframe tbody tr th:only-of-type {\n",
       "        vertical-align: middle;\n",
       "    }\n",
       "\n",
       "    .dataframe tbody tr th {\n",
       "        vertical-align: top;\n",
       "    }\n",
       "\n",
       "    .dataframe thead th {\n",
       "        text-align: right;\n",
       "    }\n",
       "</style>\n",
       "<table border=\"1\" class=\"dataframe\">\n",
       "  <thead>\n",
       "    <tr style=\"text-align: right;\">\n",
       "      <th></th>\n",
       "      <th>date</th>\n",
       "      <th>DFEDTARL</th>\n",
       "      <th>DFEDTARU</th>\n",
       "      <th>GDPC1</th>\n",
       "      <th>CPIAUCSL</th>\n",
       "      <th>UNRATE</th>\n",
       "      <th>PAYEMS</th>\n",
       "      <th>RRSFS</th>\n",
       "      <th>GFDEBTN</th>\n",
       "      <th>VIXCLS</th>\n",
       "      <th>DFF</th>\n",
       "      <th>minutes</th>\n",
       "      <th>speeches</th>\n",
       "      <th>statements</th>\n",
       "      <th>testimony</th>\n",
       "      <th>pressconf</th>\n",
       "      <th>text</th>\n",
       "    </tr>\n",
       "  </thead>\n",
       "  <tbody>\n",
       "    <tr>\n",
       "      <th>178</th>\n",
       "      <td>2020-11-30</td>\n",
       "      <td>0.0</td>\n",
       "      <td>0.25</td>\n",
       "      <td>18794.426</td>\n",
       "      <td>260.927</td>\n",
       "      <td>6.7</td>\n",
       "      <td>142809.0</td>\n",
       "      <td>208966.0</td>\n",
       "      <td>27747798.0</td>\n",
       "      <td>24.806000</td>\n",
       "      <td>0.086333</td>\n",
       "      <td>December 15-16, 2020\\nA joint meeting of the ...</td>\n",
       "      <td>The Federal Reserve is committed to providing...</td>\n",
       "      <td>The Federal Reserve is committed to using its...</td>\n",
       "      <td>Chair Powell submitted identical remarks to t...</td>\n",
       "      <td>CHAIR POWELL.  Good afternoon.  At the Federa...</td>\n",
       "      <td>December 15-16, 2020\\nA joint meeting of the ...</td>\n",
       "    </tr>\n",
       "    <tr>\n",
       "      <th>179</th>\n",
       "      <td>2020-12-31</td>\n",
       "      <td>0.0</td>\n",
       "      <td>0.25</td>\n",
       "      <td>18794.426</td>\n",
       "      <td>261.560</td>\n",
       "      <td>6.7</td>\n",
       "      <td>142503.0</td>\n",
       "      <td>205818.0</td>\n",
       "      <td>27747798.0</td>\n",
       "      <td>22.198710</td>\n",
       "      <td>0.090000</td>\n",
       "      <td>January 26-27, 2021A joint meeting of the Fed...</td>\n",
       "      <td>Current Economic Situation and Outlook\\nIn th...</td>\n",
       "      <td>The Federal Reserve is committed to using its...</td>\n",
       "      <td>NaN</td>\n",
       "      <td>CHAIR POWELL.  Good afternoon.  At the Federa...</td>\n",
       "      <td>January 26-27, 2021A joint meeting of the Fed...</td>\n",
       "    </tr>\n",
       "    <tr>\n",
       "      <th>180</th>\n",
       "      <td>2021-01-31</td>\n",
       "      <td>0.0</td>\n",
       "      <td>0.25</td>\n",
       "      <td>18794.426</td>\n",
       "      <td>262.231</td>\n",
       "      <td>6.3</td>\n",
       "      <td>142669.0</td>\n",
       "      <td>220845.0</td>\n",
       "      <td>27747798.0</td>\n",
       "      <td>24.763871</td>\n",
       "      <td>0.085161</td>\n",
       "      <td>NaN</td>\n",
       "      <td>Today I will discuss the state of our labor m...</td>\n",
       "      <td>NaN</td>\n",
       "      <td>Chair Powell submitted identical remarks to t...</td>\n",
       "      <td>NaN</td>\n",
       "      <td>Today I will discuss the state of our labor m...</td>\n",
       "    </tr>\n",
       "    <tr>\n",
       "      <th>181</th>\n",
       "      <td>2021-02-28</td>\n",
       "      <td>0.0</td>\n",
       "      <td>0.25</td>\n",
       "      <td>18794.426</td>\n",
       "      <td>263.161</td>\n",
       "      <td>6.2</td>\n",
       "      <td>143048.0</td>\n",
       "      <td>213438.0</td>\n",
       "      <td>27747798.0</td>\n",
       "      <td>22.904286</td>\n",
       "      <td>0.075714</td>\n",
       "      <td>NaN</td>\n",
       "      <td>The Dash for Cash\\nInvestor sentiment shifted...</td>\n",
       "      <td>The Federal Reserve is committed to using its...</td>\n",
       "      <td>Chair Powell submitted identical remarks to t...</td>\n",
       "      <td>PRELIMINARY Transcript of Chair Powell’s Pres...</td>\n",
       "      <td>The Dash for Cash\\nInvestor sentiment shifted...</td>\n",
       "    </tr>\n",
       "    <tr>\n",
       "      <th>182</th>\n",
       "      <td>2021-03-31</td>\n",
       "      <td>0.0</td>\n",
       "      <td>0.25</td>\n",
       "      <td>18794.426</td>\n",
       "      <td>263.161</td>\n",
       "      <td>6.2</td>\n",
       "      <td>143048.0</td>\n",
       "      <td>213438.0</td>\n",
       "      <td>27747798.0</td>\n",
       "      <td>21.891429</td>\n",
       "      <td>0.070000</td>\n",
       "      <td>NaN</td>\n",
       "      <td>NaN</td>\n",
       "      <td>NaN</td>\n",
       "      <td>NaN</td>\n",
       "      <td>NaN</td>\n",
       "      <td>NaN</td>\n",
       "    </tr>\n",
       "  </tbody>\n",
       "</table>\n",
       "</div>"
      ],
      "text/plain": [
       "           date  DFEDTARL  DFEDTARU      GDPC1  CPIAUCSL  UNRATE    PAYEMS  \\\n",
       "178  2020-11-30       0.0      0.25  18794.426   260.927     6.7  142809.0   \n",
       "179  2020-12-31       0.0      0.25  18794.426   261.560     6.7  142503.0   \n",
       "180  2021-01-31       0.0      0.25  18794.426   262.231     6.3  142669.0   \n",
       "181  2021-02-28       0.0      0.25  18794.426   263.161     6.2  143048.0   \n",
       "182  2021-03-31       0.0      0.25  18794.426   263.161     6.2  143048.0   \n",
       "\n",
       "        RRSFS     GFDEBTN     VIXCLS       DFF  \\\n",
       "178  208966.0  27747798.0  24.806000  0.086333   \n",
       "179  205818.0  27747798.0  22.198710  0.090000   \n",
       "180  220845.0  27747798.0  24.763871  0.085161   \n",
       "181  213438.0  27747798.0  22.904286  0.075714   \n",
       "182  213438.0  27747798.0  21.891429  0.070000   \n",
       "\n",
       "                                               minutes  \\\n",
       "178   December 15-16, 2020\\nA joint meeting of the ...   \n",
       "179   January 26-27, 2021A joint meeting of the Fed...   \n",
       "180                                                NaN   \n",
       "181                                                NaN   \n",
       "182                                                NaN   \n",
       "\n",
       "                                              speeches  \\\n",
       "178   The Federal Reserve is committed to providing...   \n",
       "179   Current Economic Situation and Outlook\\nIn th...   \n",
       "180   Today I will discuss the state of our labor m...   \n",
       "181   The Dash for Cash\\nInvestor sentiment shifted...   \n",
       "182                                                NaN   \n",
       "\n",
       "                                            statements  \\\n",
       "178   The Federal Reserve is committed to using its...   \n",
       "179   The Federal Reserve is committed to using its...   \n",
       "180                                                NaN   \n",
       "181   The Federal Reserve is committed to using its...   \n",
       "182                                                NaN   \n",
       "\n",
       "                                             testimony  \\\n",
       "178   Chair Powell submitted identical remarks to t...   \n",
       "179                                                NaN   \n",
       "180   Chair Powell submitted identical remarks to t...   \n",
       "181   Chair Powell submitted identical remarks to t...   \n",
       "182                                                NaN   \n",
       "\n",
       "                                             pressconf  \\\n",
       "178   CHAIR POWELL.  Good afternoon.  At the Federa...   \n",
       "179   CHAIR POWELL.  Good afternoon.  At the Federa...   \n",
       "180                                                NaN   \n",
       "181   PRELIMINARY Transcript of Chair Powell’s Pres...   \n",
       "182                                                NaN   \n",
       "\n",
       "                                                  text  \n",
       "178   December 15-16, 2020\\nA joint meeting of the ...  \n",
       "179   January 26-27, 2021A joint meeting of the Fed...  \n",
       "180   Today I will discuss the state of our labor m...  \n",
       "181   The Dash for Cash\\nInvestor sentiment shifted...  \n",
       "182                                                NaN  "
      ]
     },
     "execution_count": 113,
     "metadata": {},
     "output_type": "execute_result"
    }
   ],
   "source": [
    "df.tail()"
   ]
  },
  {
   "cell_type": "code",
   "execution_count": 114,
   "metadata": {},
   "outputs": [],
   "source": [
    "df = df.iloc[:-1]"
   ]
  },
  {
   "cell_type": "code",
   "execution_count": 115,
   "metadata": {},
   "outputs": [],
   "source": [
    "df.drop(['minutes', 'speeches', \n",
    "         'statements', 'testimony', \n",
    "         'pressconf', 'text'], \n",
    "        axis=1, \n",
    "        inplace=True)"
   ]
  },
  {
   "cell_type": "code",
   "execution_count": 116,
   "metadata": {},
   "outputs": [
    {
     "data": {
      "text/html": [
       "<div>\n",
       "<style scoped>\n",
       "    .dataframe tbody tr th:only-of-type {\n",
       "        vertical-align: middle;\n",
       "    }\n",
       "\n",
       "    .dataframe tbody tr th {\n",
       "        vertical-align: top;\n",
       "    }\n",
       "\n",
       "    .dataframe thead th {\n",
       "        text-align: right;\n",
       "    }\n",
       "</style>\n",
       "<table border=\"1\" class=\"dataframe\">\n",
       "  <thead>\n",
       "    <tr style=\"text-align: right;\">\n",
       "      <th></th>\n",
       "      <th>date</th>\n",
       "      <th>DFEDTARL</th>\n",
       "      <th>DFEDTARU</th>\n",
       "      <th>GDPC1</th>\n",
       "      <th>CPIAUCSL</th>\n",
       "      <th>UNRATE</th>\n",
       "      <th>PAYEMS</th>\n",
       "      <th>RRSFS</th>\n",
       "      <th>GFDEBTN</th>\n",
       "      <th>VIXCLS</th>\n",
       "      <th>DFF</th>\n",
       "    </tr>\n",
       "  </thead>\n",
       "  <tbody>\n",
       "    <tr>\n",
       "      <th>0</th>\n",
       "      <td>2006-01-31</td>\n",
       "      <td>NaN</td>\n",
       "      <td>NaN</td>\n",
       "      <td>15267.026</td>\n",
       "      <td>199.3</td>\n",
       "      <td>4.7</td>\n",
       "      <td>135429.0</td>\n",
       "      <td>179293.0</td>\n",
       "      <td>8371156.0</td>\n",
       "      <td>12.050690</td>\n",
       "      <td>4.285161</td>\n",
       "    </tr>\n",
       "    <tr>\n",
       "      <th>1</th>\n",
       "      <td>2006-02-28</td>\n",
       "      <td>NaN</td>\n",
       "      <td>NaN</td>\n",
       "      <td>15267.026</td>\n",
       "      <td>199.4</td>\n",
       "      <td>4.8</td>\n",
       "      <td>135737.0</td>\n",
       "      <td>177887.0</td>\n",
       "      <td>8371156.0</td>\n",
       "      <td>12.412857</td>\n",
       "      <td>4.491429</td>\n",
       "    </tr>\n",
       "    <tr>\n",
       "      <th>2</th>\n",
       "      <td>2006-03-31</td>\n",
       "      <td>NaN</td>\n",
       "      <td>NaN</td>\n",
       "      <td>15267.026</td>\n",
       "      <td>199.7</td>\n",
       "      <td>4.7</td>\n",
       "      <td>136047.0</td>\n",
       "      <td>178100.0</td>\n",
       "      <td>8371156.0</td>\n",
       "      <td>11.716129</td>\n",
       "      <td>4.589355</td>\n",
       "    </tr>\n",
       "    <tr>\n",
       "      <th>3</th>\n",
       "      <td>2006-04-30</td>\n",
       "      <td>NaN</td>\n",
       "      <td>NaN</td>\n",
       "      <td>15302.705</td>\n",
       "      <td>200.7</td>\n",
       "      <td>4.7</td>\n",
       "      <td>136205.0</td>\n",
       "      <td>178088.0</td>\n",
       "      <td>8420042.0</td>\n",
       "      <td>11.863333</td>\n",
       "      <td>4.790333</td>\n",
       "    </tr>\n",
       "    <tr>\n",
       "      <th>4</th>\n",
       "      <td>2006-05-31</td>\n",
       "      <td>NaN</td>\n",
       "      <td>NaN</td>\n",
       "      <td>15302.705</td>\n",
       "      <td>201.3</td>\n",
       "      <td>4.6</td>\n",
       "      <td>136244.0</td>\n",
       "      <td>177200.0</td>\n",
       "      <td>8420042.0</td>\n",
       "      <td>14.411613</td>\n",
       "      <td>4.940323</td>\n",
       "    </tr>\n",
       "  </tbody>\n",
       "</table>\n",
       "</div>"
      ],
      "text/plain": [
       "         date  DFEDTARL  DFEDTARU      GDPC1  CPIAUCSL  UNRATE    PAYEMS  \\\n",
       "0  2006-01-31       NaN       NaN  15267.026     199.3     4.7  135429.0   \n",
       "1  2006-02-28       NaN       NaN  15267.026     199.4     4.8  135737.0   \n",
       "2  2006-03-31       NaN       NaN  15267.026     199.7     4.7  136047.0   \n",
       "3  2006-04-30       NaN       NaN  15302.705     200.7     4.7  136205.0   \n",
       "4  2006-05-31       NaN       NaN  15302.705     201.3     4.6  136244.0   \n",
       "\n",
       "      RRSFS    GFDEBTN     VIXCLS       DFF  \n",
       "0  179293.0  8371156.0  12.050690  4.285161  \n",
       "1  177887.0  8371156.0  12.412857  4.491429  \n",
       "2  178100.0  8371156.0  11.716129  4.589355  \n",
       "3  178088.0  8420042.0  11.863333  4.790333  \n",
       "4  177200.0  8420042.0  14.411613  4.940323  "
      ]
     },
     "execution_count": 116,
     "metadata": {},
     "output_type": "execute_result"
    }
   ],
   "source": [
    "df.head()"
   ]
  },
  {
   "cell_type": "code",
   "execution_count": 117,
   "metadata": {},
   "outputs": [],
   "source": [
    "def count_missing(data):\n",
    "    \"\"\"\n",
    "    method to count number of missing values in each column\n",
    "    inputs:\n",
    "        data - dataframe\n",
    "    output:\n",
    "        returns df sorted according to num of missing values\n",
    "    \"\"\"\n",
    "    key_value = {}\n",
    "    col_name = []\n",
    "    num_na = []\n",
    "    for col in data.columns:\n",
    "        col_name.append(col)\n",
    "        num_na.append(data[col].isna().sum())\n",
    "    key_value['Column Name'] = col_name\n",
    "    key_value['Number of NAs'] = num_na\n",
    "    return pd.DataFrame(key_value)"
   ]
  },
  {
   "cell_type": "code",
   "execution_count": 118,
   "metadata": {},
   "outputs": [
    {
     "data": {
      "text/html": [
       "<div>\n",
       "<style scoped>\n",
       "    .dataframe tbody tr th:only-of-type {\n",
       "        vertical-align: middle;\n",
       "    }\n",
       "\n",
       "    .dataframe tbody tr th {\n",
       "        vertical-align: top;\n",
       "    }\n",
       "\n",
       "    .dataframe thead th {\n",
       "        text-align: right;\n",
       "    }\n",
       "</style>\n",
       "<table border=\"1\" class=\"dataframe\">\n",
       "  <thead>\n",
       "    <tr style=\"text-align: right;\">\n",
       "      <th></th>\n",
       "      <th>Column Name</th>\n",
       "      <th>Number of NAs</th>\n",
       "    </tr>\n",
       "  </thead>\n",
       "  <tbody>\n",
       "    <tr>\n",
       "      <th>0</th>\n",
       "      <td>date</td>\n",
       "      <td>0</td>\n",
       "    </tr>\n",
       "    <tr>\n",
       "      <th>1</th>\n",
       "      <td>DFEDTARL</td>\n",
       "      <td>35</td>\n",
       "    </tr>\n",
       "    <tr>\n",
       "      <th>2</th>\n",
       "      <td>DFEDTARU</td>\n",
       "      <td>35</td>\n",
       "    </tr>\n",
       "    <tr>\n",
       "      <th>3</th>\n",
       "      <td>GDPC1</td>\n",
       "      <td>0</td>\n",
       "    </tr>\n",
       "    <tr>\n",
       "      <th>4</th>\n",
       "      <td>CPIAUCSL</td>\n",
       "      <td>0</td>\n",
       "    </tr>\n",
       "    <tr>\n",
       "      <th>5</th>\n",
       "      <td>UNRATE</td>\n",
       "      <td>0</td>\n",
       "    </tr>\n",
       "    <tr>\n",
       "      <th>6</th>\n",
       "      <td>PAYEMS</td>\n",
       "      <td>0</td>\n",
       "    </tr>\n",
       "    <tr>\n",
       "      <th>7</th>\n",
       "      <td>RRSFS</td>\n",
       "      <td>0</td>\n",
       "    </tr>\n",
       "    <tr>\n",
       "      <th>8</th>\n",
       "      <td>GFDEBTN</td>\n",
       "      <td>0</td>\n",
       "    </tr>\n",
       "    <tr>\n",
       "      <th>9</th>\n",
       "      <td>VIXCLS</td>\n",
       "      <td>0</td>\n",
       "    </tr>\n",
       "    <tr>\n",
       "      <th>10</th>\n",
       "      <td>DFF</td>\n",
       "      <td>0</td>\n",
       "    </tr>\n",
       "  </tbody>\n",
       "</table>\n",
       "</div>"
      ],
      "text/plain": [
       "   Column Name  Number of NAs\n",
       "0         date              0\n",
       "1     DFEDTARL             35\n",
       "2     DFEDTARU             35\n",
       "3        GDPC1              0\n",
       "4     CPIAUCSL              0\n",
       "5       UNRATE              0\n",
       "6       PAYEMS              0\n",
       "7        RRSFS              0\n",
       "8      GFDEBTN              0\n",
       "9       VIXCLS              0\n",
       "10         DFF              0"
      ]
     },
     "execution_count": 118,
     "metadata": {},
     "output_type": "execute_result"
    }
   ],
   "source": [
    "count_missing(df)"
   ]
  },
  {
   "cell_type": "code",
   "execution_count": 119,
   "metadata": {},
   "outputs": [],
   "source": [
    "def preprocessing(data):\n",
    "    '''\n",
    "    Description: Drop date, DFEDTARL and DFEDTARU, \n",
    "                 generate target variable column, \n",
    "                 and drop first row.\n",
    "\n",
    "    Input:\n",
    "    * Pandas DataFrame: Dataframe to be preprocessed.\n",
    "\n",
    "    Return:\n",
    "    * Pandas DataFrame: Dataframe with NA filled, \n",
    "                        target column generated, \n",
    "                        and first row dropped.\n",
    "    '''\n",
    "    \n",
    "    data['diff'] = data['DFF'].diff()\n",
    "    data['target'] = [1 if x > 0.01 \n",
    "                      else -1 if x < -0.01 \n",
    "                      else 0 \n",
    "                      for x in data['diff']]\n",
    "    \n",
    "    to_drop = ['date', 'DFEDTARL', 'DFEDTARU', 'diff']\n",
    "    data.drop(to_drop, axis=1, inplace=True)\n",
    "    data = data.iloc[1:,:]\n",
    "    \n",
    "    return data"
   ]
  },
  {
   "cell_type": "code",
   "execution_count": 120,
   "metadata": {},
   "outputs": [],
   "source": [
    "df = preprocessing(df)"
   ]
  },
  {
   "cell_type": "code",
   "execution_count": 121,
   "metadata": {},
   "outputs": [
    {
     "data": {
      "text/html": [
       "<div>\n",
       "<style scoped>\n",
       "    .dataframe tbody tr th:only-of-type {\n",
       "        vertical-align: middle;\n",
       "    }\n",
       "\n",
       "    .dataframe tbody tr th {\n",
       "        vertical-align: top;\n",
       "    }\n",
       "\n",
       "    .dataframe thead th {\n",
       "        text-align: right;\n",
       "    }\n",
       "</style>\n",
       "<table border=\"1\" class=\"dataframe\">\n",
       "  <thead>\n",
       "    <tr style=\"text-align: right;\">\n",
       "      <th></th>\n",
       "      <th>target</th>\n",
       "    </tr>\n",
       "  </thead>\n",
       "  <tbody>\n",
       "    <tr>\n",
       "      <th>0</th>\n",
       "      <td>80</td>\n",
       "    </tr>\n",
       "    <tr>\n",
       "      <th>1</th>\n",
       "      <td>57</td>\n",
       "    </tr>\n",
       "    <tr>\n",
       "      <th>-1</th>\n",
       "      <td>44</td>\n",
       "    </tr>\n",
       "  </tbody>\n",
       "</table>\n",
       "</div>"
      ],
      "text/plain": [
       "    target\n",
       " 0      80\n",
       " 1      57\n",
       "-1      44"
      ]
     },
     "execution_count": 121,
     "metadata": {},
     "output_type": "execute_result"
    }
   ],
   "source": [
    "pd.DataFrame(df.target.value_counts())"
   ]
  },
  {
   "cell_type": "code",
   "execution_count": 122,
   "metadata": {},
   "outputs": [
    {
     "data": {
      "text/html": [
       "<div>\n",
       "<style scoped>\n",
       "    .dataframe tbody tr th:only-of-type {\n",
       "        vertical-align: middle;\n",
       "    }\n",
       "\n",
       "    .dataframe tbody tr th {\n",
       "        vertical-align: top;\n",
       "    }\n",
       "\n",
       "    .dataframe thead th {\n",
       "        text-align: right;\n",
       "    }\n",
       "</style>\n",
       "<table border=\"1\" class=\"dataframe\">\n",
       "  <thead>\n",
       "    <tr style=\"text-align: right;\">\n",
       "      <th></th>\n",
       "      <th>GDPC1</th>\n",
       "      <th>CPIAUCSL</th>\n",
       "      <th>UNRATE</th>\n",
       "      <th>PAYEMS</th>\n",
       "      <th>RRSFS</th>\n",
       "      <th>GFDEBTN</th>\n",
       "      <th>VIXCLS</th>\n",
       "      <th>DFF</th>\n",
       "      <th>target</th>\n",
       "    </tr>\n",
       "  </thead>\n",
       "  <tbody>\n",
       "    <tr>\n",
       "      <th>1</th>\n",
       "      <td>15267.026</td>\n",
       "      <td>199.4</td>\n",
       "      <td>4.8</td>\n",
       "      <td>135737.0</td>\n",
       "      <td>177887.0</td>\n",
       "      <td>8371156.0</td>\n",
       "      <td>12.412857</td>\n",
       "      <td>4.491429</td>\n",
       "      <td>1</td>\n",
       "    </tr>\n",
       "    <tr>\n",
       "      <th>2</th>\n",
       "      <td>15267.026</td>\n",
       "      <td>199.7</td>\n",
       "      <td>4.7</td>\n",
       "      <td>136047.0</td>\n",
       "      <td>178100.0</td>\n",
       "      <td>8371156.0</td>\n",
       "      <td>11.716129</td>\n",
       "      <td>4.589355</td>\n",
       "      <td>1</td>\n",
       "    </tr>\n",
       "    <tr>\n",
       "      <th>3</th>\n",
       "      <td>15302.705</td>\n",
       "      <td>200.7</td>\n",
       "      <td>4.7</td>\n",
       "      <td>136205.0</td>\n",
       "      <td>178088.0</td>\n",
       "      <td>8420042.0</td>\n",
       "      <td>11.863333</td>\n",
       "      <td>4.790333</td>\n",
       "      <td>1</td>\n",
       "    </tr>\n",
       "    <tr>\n",
       "      <th>4</th>\n",
       "      <td>15302.705</td>\n",
       "      <td>201.3</td>\n",
       "      <td>4.6</td>\n",
       "      <td>136244.0</td>\n",
       "      <td>177200.0</td>\n",
       "      <td>8420042.0</td>\n",
       "      <td>14.411613</td>\n",
       "      <td>4.940323</td>\n",
       "      <td>1</td>\n",
       "    </tr>\n",
       "    <tr>\n",
       "      <th>5</th>\n",
       "      <td>15302.705</td>\n",
       "      <td>201.8</td>\n",
       "      <td>4.6</td>\n",
       "      <td>136325.0</td>\n",
       "      <td>177343.0</td>\n",
       "      <td>8420042.0</td>\n",
       "      <td>16.779000</td>\n",
       "      <td>4.991000</td>\n",
       "      <td>1</td>\n",
       "    </tr>\n",
       "  </tbody>\n",
       "</table>\n",
       "</div>"
      ],
      "text/plain": [
       "       GDPC1  CPIAUCSL  UNRATE    PAYEMS     RRSFS    GFDEBTN     VIXCLS  \\\n",
       "1  15267.026     199.4     4.8  135737.0  177887.0  8371156.0  12.412857   \n",
       "2  15267.026     199.7     4.7  136047.0  178100.0  8371156.0  11.716129   \n",
       "3  15302.705     200.7     4.7  136205.0  178088.0  8420042.0  11.863333   \n",
       "4  15302.705     201.3     4.6  136244.0  177200.0  8420042.0  14.411613   \n",
       "5  15302.705     201.8     4.6  136325.0  177343.0  8420042.0  16.779000   \n",
       "\n",
       "        DFF  target  \n",
       "1  4.491429       1  \n",
       "2  4.589355       1  \n",
       "3  4.790333       1  \n",
       "4  4.940323       1  \n",
       "5  4.991000       1  "
      ]
     },
     "execution_count": 122,
     "metadata": {},
     "output_type": "execute_result"
    }
   ],
   "source": [
    "df.head()"
   ]
  },
  {
   "cell_type": "markdown",
   "metadata": {},
   "source": [
    "### Train Test Split"
   ]
  },
  {
   "cell_type": "code",
   "execution_count": 123,
   "metadata": {},
   "outputs": [],
   "source": [
    "X = df.drop(columns=['target'])\n",
    "y = df.target\n",
    "X_train, X_test, y_train, y_test = train_test_split(X, \n",
    "                                                    y, \n",
    "                                                    random_state=1, \n",
    "                                                    test_size=0.2, \n",
    "                                                    shuffle=False)"
   ]
  },
  {
   "cell_type": "markdown",
   "metadata": {},
   "source": [
    "### Feature Scaling"
   ]
  },
  {
   "cell_type": "code",
   "execution_count": 124,
   "metadata": {},
   "outputs": [
    {
     "data": {
      "text/html": [
       "<div>\n",
       "<style scoped>\n",
       "    .dataframe tbody tr th:only-of-type {\n",
       "        vertical-align: middle;\n",
       "    }\n",
       "\n",
       "    .dataframe tbody tr th {\n",
       "        vertical-align: top;\n",
       "    }\n",
       "\n",
       "    .dataframe thead th {\n",
       "        text-align: right;\n",
       "    }\n",
       "</style>\n",
       "<table border=\"1\" class=\"dataframe\">\n",
       "  <thead>\n",
       "    <tr style=\"text-align: right;\">\n",
       "      <th></th>\n",
       "      <th>GDPC1</th>\n",
       "      <th>CPIAUCSL</th>\n",
       "      <th>UNRATE</th>\n",
       "      <th>PAYEMS</th>\n",
       "      <th>RRSFS</th>\n",
       "      <th>GFDEBTN</th>\n",
       "      <th>VIXCLS</th>\n",
       "      <th>DFF</th>\n",
       "    </tr>\n",
       "  </thead>\n",
       "  <tbody>\n",
       "    <tr>\n",
       "      <th>1</th>\n",
       "      <td>15267.026</td>\n",
       "      <td>199.4</td>\n",
       "      <td>4.8</td>\n",
       "      <td>135737.0</td>\n",
       "      <td>177887.0</td>\n",
       "      <td>8371156.0</td>\n",
       "      <td>12.412857</td>\n",
       "      <td>4.491429</td>\n",
       "    </tr>\n",
       "    <tr>\n",
       "      <th>2</th>\n",
       "      <td>15267.026</td>\n",
       "      <td>199.7</td>\n",
       "      <td>4.7</td>\n",
       "      <td>136047.0</td>\n",
       "      <td>178100.0</td>\n",
       "      <td>8371156.0</td>\n",
       "      <td>11.716129</td>\n",
       "      <td>4.589355</td>\n",
       "    </tr>\n",
       "    <tr>\n",
       "      <th>3</th>\n",
       "      <td>15302.705</td>\n",
       "      <td>200.7</td>\n",
       "      <td>4.7</td>\n",
       "      <td>136205.0</td>\n",
       "      <td>178088.0</td>\n",
       "      <td>8420042.0</td>\n",
       "      <td>11.863333</td>\n",
       "      <td>4.790333</td>\n",
       "    </tr>\n",
       "    <tr>\n",
       "      <th>4</th>\n",
       "      <td>15302.705</td>\n",
       "      <td>201.3</td>\n",
       "      <td>4.6</td>\n",
       "      <td>136244.0</td>\n",
       "      <td>177200.0</td>\n",
       "      <td>8420042.0</td>\n",
       "      <td>14.411613</td>\n",
       "      <td>4.940323</td>\n",
       "    </tr>\n",
       "    <tr>\n",
       "      <th>5</th>\n",
       "      <td>15302.705</td>\n",
       "      <td>201.8</td>\n",
       "      <td>4.6</td>\n",
       "      <td>136325.0</td>\n",
       "      <td>177343.0</td>\n",
       "      <td>8420042.0</td>\n",
       "      <td>16.779000</td>\n",
       "      <td>4.991000</td>\n",
       "    </tr>\n",
       "  </tbody>\n",
       "</table>\n",
       "</div>"
      ],
      "text/plain": [
       "       GDPC1  CPIAUCSL  UNRATE    PAYEMS     RRSFS    GFDEBTN     VIXCLS  \\\n",
       "1  15267.026     199.4     4.8  135737.0  177887.0  8371156.0  12.412857   \n",
       "2  15267.026     199.7     4.7  136047.0  178100.0  8371156.0  11.716129   \n",
       "3  15302.705     200.7     4.7  136205.0  178088.0  8420042.0  11.863333   \n",
       "4  15302.705     201.3     4.6  136244.0  177200.0  8420042.0  14.411613   \n",
       "5  15302.705     201.8     4.6  136325.0  177343.0  8420042.0  16.779000   \n",
       "\n",
       "        DFF  \n",
       "1  4.491429  \n",
       "2  4.589355  \n",
       "3  4.790333  \n",
       "4  4.940323  \n",
       "5  4.991000  "
      ]
     },
     "execution_count": 124,
     "metadata": {},
     "output_type": "execute_result"
    }
   ],
   "source": [
    "pd.DataFrame(X_train[:5])"
   ]
  },
  {
   "cell_type": "code",
   "execution_count": 125,
   "metadata": {},
   "outputs": [],
   "source": [
    "sc = StandardScaler()\n",
    "X_train = sc.fit_transform(X_train)\n",
    "X_test = sc.transform(X_test)"
   ]
  },
  {
   "cell_type": "code",
   "execution_count": 126,
   "metadata": {},
   "outputs": [
    {
     "data": {
      "text/html": [
       "<div>\n",
       "<style scoped>\n",
       "    .dataframe tbody tr th:only-of-type {\n",
       "        vertical-align: middle;\n",
       "    }\n",
       "\n",
       "    .dataframe tbody tr th {\n",
       "        vertical-align: top;\n",
       "    }\n",
       "\n",
       "    .dataframe thead th {\n",
       "        text-align: right;\n",
       "    }\n",
       "</style>\n",
       "<table border=\"1\" class=\"dataframe\">\n",
       "  <thead>\n",
       "    <tr style=\"text-align: right;\">\n",
       "      <th></th>\n",
       "      <th>0</th>\n",
       "      <th>1</th>\n",
       "      <th>2</th>\n",
       "      <th>3</th>\n",
       "      <th>4</th>\n",
       "      <th>5</th>\n",
       "      <th>6</th>\n",
       "      <th>7</th>\n",
       "    </tr>\n",
       "  </thead>\n",
       "  <tbody>\n",
       "    <tr>\n",
       "      <th>0</th>\n",
       "      <td>-1.130742</td>\n",
       "      <td>-1.967195</td>\n",
       "      <td>-0.918581</td>\n",
       "      <td>-0.325537</td>\n",
       "      <td>0.028569</td>\n",
       "      <td>-1.609374</td>\n",
       "      <td>-0.742005</td>\n",
       "      <td>1.858206</td>\n",
       "    </tr>\n",
       "    <tr>\n",
       "      <th>1</th>\n",
       "      <td>-1.130742</td>\n",
       "      <td>-1.944672</td>\n",
       "      <td>-0.970372</td>\n",
       "      <td>-0.263516</td>\n",
       "      <td>0.048022</td>\n",
       "      <td>-1.609374</td>\n",
       "      <td>-0.818080</td>\n",
       "      <td>1.912895</td>\n",
       "    </tr>\n",
       "    <tr>\n",
       "      <th>2</th>\n",
       "      <td>-1.094055</td>\n",
       "      <td>-1.869597</td>\n",
       "      <td>-0.970372</td>\n",
       "      <td>-0.231906</td>\n",
       "      <td>0.046926</td>\n",
       "      <td>-1.597019</td>\n",
       "      <td>-0.802007</td>\n",
       "      <td>2.025136</td>\n",
       "    </tr>\n",
       "    <tr>\n",
       "      <th>3</th>\n",
       "      <td>-1.094055</td>\n",
       "      <td>-1.824551</td>\n",
       "      <td>-1.022164</td>\n",
       "      <td>-0.224103</td>\n",
       "      <td>-0.034174</td>\n",
       "      <td>-1.597019</td>\n",
       "      <td>-0.523763</td>\n",
       "      <td>2.108901</td>\n",
       "    </tr>\n",
       "    <tr>\n",
       "      <th>4</th>\n",
       "      <td>-1.094055</td>\n",
       "      <td>-1.787014</td>\n",
       "      <td>-1.022164</td>\n",
       "      <td>-0.207898</td>\n",
       "      <td>-0.021114</td>\n",
       "      <td>-1.597019</td>\n",
       "      <td>-0.265271</td>\n",
       "      <td>2.137203</td>\n",
       "    </tr>\n",
       "  </tbody>\n",
       "</table>\n",
       "</div>"
      ],
      "text/plain": [
       "          0         1         2         3         4         5         6  \\\n",
       "0 -1.130742 -1.967195 -0.918581 -0.325537  0.028569 -1.609374 -0.742005   \n",
       "1 -1.130742 -1.944672 -0.970372 -0.263516  0.048022 -1.609374 -0.818080   \n",
       "2 -1.094055 -1.869597 -0.970372 -0.231906  0.046926 -1.597019 -0.802007   \n",
       "3 -1.094055 -1.824551 -1.022164 -0.224103 -0.034174 -1.597019 -0.523763   \n",
       "4 -1.094055 -1.787014 -1.022164 -0.207898 -0.021114 -1.597019 -0.265271   \n",
       "\n",
       "          7  \n",
       "0  1.858206  \n",
       "1  1.912895  \n",
       "2  2.025136  \n",
       "3  2.108901  \n",
       "4  2.137203  "
      ]
     },
     "execution_count": 126,
     "metadata": {},
     "output_type": "execute_result"
    }
   ],
   "source": [
    "pd.DataFrame(X_train[:5])"
   ]
  },
  {
   "cell_type": "markdown",
   "metadata": {},
   "source": [
    "### Feature Selection"
   ]
  },
  {
   "cell_type": "markdown",
   "metadata": {},
   "source": [
    "#### Information Gain Ratio"
   ]
  },
  {
   "cell_type": "code",
   "execution_count": 127,
   "metadata": {},
   "outputs": [],
   "source": [
    "cols = df.iloc[:, :-1].columns\n",
    "igr_list = []\n",
    "for col in cols:\n",
    "    key_value = [col]\n",
    "    igr = info_gain.info_gain_ratio(df['target'].values.tolist(),\n",
    "                                    df[col].values.tolist())\n",
    "    key_value.append(igr)\n",
    "    igr_list.append(key_value)\n",
    "igr_list = sorted(igr_list, key=lambda x: x[1], reverse=True)"
   ]
  },
  {
   "cell_type": "code",
   "execution_count": 128,
   "metadata": {},
   "outputs": [
    {
     "data": {
      "text/plain": [
       "[['CPIAUCSL', 0.14289734153473],\n",
       " ['RRSFS', 0.1424762725758933],\n",
       " ['PAYEMS', 0.14166375728218206],\n",
       " ['VIXCLS', 0.14166375728218206],\n",
       " ['DFF', 0.14065596890528995],\n",
       " ['GDPC1', 0.10108780402805446],\n",
       " ['GFDEBTN', 0.09381973062759424],\n",
       " ['UNRATE', 0.09050002536674114]]"
      ]
     },
     "execution_count": 128,
     "metadata": {},
     "output_type": "execute_result"
    }
   ],
   "source": [
    "igr_list"
   ]
  },
  {
   "cell_type": "code",
   "execution_count": 129,
   "metadata": {},
   "outputs": [
    {
     "data": {
      "image/png": "[encoded data removed]",
      "text/plain": [
       "<Figure size 864x576 with 1 Axes>"
      ]
     },
     "metadata": {
      "needs_background": "light"
     },
     "output_type": "display_data"
    }
   ],
   "source": [
    "plt.figure(figsize=(12,8))\n",
    "ax = sns.barplot(x=\"Features\", \n",
    "                 y=\"Information Gain Ratio\", \n",
    "                 data=pd.DataFrame(igr_list, \n",
    "                                   columns=['Features', \n",
    "                                            'Information Gain Ratio']))\n",
    "plt.xticks(rotation='vertical')\n",
    "ax.grid(b=True, which='major', color='#d3d3d3', linewidth=1.0)\n",
    "ax.grid(b=True, which='minor', color='#d3d3d3', linewidth=0.5)\n",
    "plt.show()"
   ]
  },
  {
   "cell_type": "markdown",
   "metadata": {},
   "source": [
    "#### Variance Inflation Factor"
   ]
  },
  {
   "cell_type": "code",
   "execution_count": 130,
   "metadata": {},
   "outputs": [
    {
     "name": "stdout",
     "output_type": "stream",
     "text": [
      "Iteration no  1\n",
      "[130.82613521926402, 49.81493676815885, 69.8573385461285, 107.75762074321858, 71.60139963103732, 71.55850924778873, 3.272631167264386, 27.35605981604291]\n",
      "Max vif  0\n",
      "Iteration no  2\n",
      "[49.3976265377466, 56.76368932198085, 43.97901056352148, 60.48288118286271, 55.63714023153695, 3.2124404645822695, 26.742700248761007]\n",
      "Max vif  3\n",
      "Iteration no  3\n",
      "[40.361688037568406, 30.62681985383739, 38.62223235662647, 33.245687716552425, 2.6913261507868285, 16.980427249553035]\n",
      "Max vif  0\n",
      "Iteration no  4\n",
      "[30.376443430825734, 33.834479015709086, 19.12940410034964, 2.5650360436366832, 14.130671956970067]\n",
      "Max vif  1\n",
      "Iteration no  5\n",
      "[5.360720122563471, 11.148174142717973, 2.282262836138926, 14.107252934676726]\n",
      "Max vif  3\n",
      "Iteration no  6\n",
      "[1.2074603244274726, 1.1518010485266708, 1.3715201393328245]\n",
      "Max vif  2\n"
     ]
    },
    {
     "data": {
      "text/html": [
       "<div>\n",
       "<style scoped>\n",
       "    .dataframe tbody tr th:only-of-type {\n",
       "        vertical-align: middle;\n",
       "    }\n",
       "\n",
       "    .dataframe tbody tr th {\n",
       "        vertical-align: top;\n",
       "    }\n",
       "\n",
       "    .dataframe thead th {\n",
       "        text-align: right;\n",
       "    }\n",
       "</style>\n",
       "<table border=\"1\" class=\"dataframe\">\n",
       "  <thead>\n",
       "    <tr style=\"text-align: right;\">\n",
       "      <th></th>\n",
       "      <th>2</th>\n",
       "      <th>5</th>\n",
       "      <th>6</th>\n",
       "    </tr>\n",
       "  </thead>\n",
       "  <tbody>\n",
       "    <tr>\n",
       "      <th>0</th>\n",
       "      <td>-0.918581</td>\n",
       "      <td>-1.609374</td>\n",
       "      <td>-0.742005</td>\n",
       "    </tr>\n",
       "    <tr>\n",
       "      <th>1</th>\n",
       "      <td>-0.970372</td>\n",
       "      <td>-1.609374</td>\n",
       "      <td>-0.818080</td>\n",
       "    </tr>\n",
       "    <tr>\n",
       "      <th>2</th>\n",
       "      <td>-0.970372</td>\n",
       "      <td>-1.597019</td>\n",
       "      <td>-0.802007</td>\n",
       "    </tr>\n",
       "    <tr>\n",
       "      <th>3</th>\n",
       "      <td>-1.022164</td>\n",
       "      <td>-1.597019</td>\n",
       "      <td>-0.523763</td>\n",
       "    </tr>\n",
       "    <tr>\n",
       "      <th>4</th>\n",
       "      <td>-1.022164</td>\n",
       "      <td>-1.597019</td>\n",
       "      <td>-0.265271</td>\n",
       "    </tr>\n",
       "  </tbody>\n",
       "</table>\n",
       "</div>"
      ],
      "text/plain": [
       "          2         5         6\n",
       "0 -0.918581 -1.609374 -0.742005\n",
       "1 -0.970372 -1.609374 -0.818080\n",
       "2 -0.970372 -1.597019 -0.802007\n",
       "3 -1.022164 -1.597019 -0.523763\n",
       "4 -1.022164 -1.597019 -0.265271"
      ]
     },
     "execution_count": 130,
     "metadata": {},
     "output_type": "execute_result"
    }
   ],
   "source": [
    "def cal_vif(x):\n",
    "    thresh = 5\n",
    "    output = pd.DataFrame()\n",
    "    k = x.shape[1]\n",
    "    vif = [variance_inflation_factor(x.values, i) for i in range(x.shape[1])]\n",
    "    for i in range(1, k):\n",
    "        print('Iteration no ', i)\n",
    "        print(vif)\n",
    "        a = np.argmax(vif)\n",
    "        print('Max vif ', a)\n",
    "        if vif[a] <= thresh:\n",
    "            break\n",
    "        if i == 1:\n",
    "            output = x.drop(x.columns[a], axis=1)\n",
    "            vif = [variance_inflation_factor(output.values, j) for j in range(output.shape[1])]\n",
    "        elif i > 1:\n",
    "            output = output.drop(output.columns[a], axis=1)\n",
    "            vif = [variance_inflation_factor(output.values, j) for j in range(output.shape[1])]\n",
    "    return output\n",
    "\n",
    "x = pd.DataFrame(X_train)\n",
    "selected_features = cal_vif(x)\n",
    "selected_features.head()"
   ]
  },
  {
   "cell_type": "code",
   "execution_count": 131,
   "metadata": {},
   "outputs": [
    {
     "name": "stdout",
     "output_type": "stream",
     "text": [
      "UNRATE\n",
      "GFDEBTN\n",
      "VIXCLS\n"
     ]
    }
   ],
   "source": [
    "for i in selected_features.columns.tolist():\n",
    "    print(df.columns[i])"
   ]
  },
  {
   "cell_type": "markdown",
   "metadata": {},
   "source": [
    "#### Random Forest Feature Importance "
   ]
  },
  {
   "cell_type": "code",
   "execution_count": 132,
   "metadata": {},
   "outputs": [],
   "source": [
    "rf_clf = RandomForestClassifier().fit(X_train, y_train)"
   ]
  },
  {
   "cell_type": "code",
   "execution_count": 133,
   "metadata": {},
   "outputs": [
    {
     "data": {
      "text/plain": [
       "array([0.08485007, 0.15941604, 0.10814828, 0.13866646, 0.13439602,\n",
       "       0.10609128, 0.14209411, 0.12633774])"
      ]
     },
     "execution_count": 133,
     "metadata": {},
     "output_type": "execute_result"
    }
   ],
   "source": [
    "rf_clf.feature_importances_"
   ]
  },
  {
   "cell_type": "code",
   "execution_count": 134,
   "metadata": {},
   "outputs": [],
   "source": [
    "importance = rf_clf.feature_importances_"
   ]
  },
  {
   "cell_type": "code",
   "execution_count": 135,
   "metadata": {},
   "outputs": [
    {
     "name": "stdout",
     "output_type": "stream",
     "text": [
      "Feature: 0, Score: 0.08485\n",
      "Feature: 1, Score: 0.15942\n",
      "Feature: 2, Score: 0.10815\n",
      "Feature: 3, Score: 0.13867\n",
      "Feature: 4, Score: 0.13440\n",
      "Feature: 5, Score: 0.10609\n",
      "Feature: 6, Score: 0.14209\n",
      "Feature: 7, Score: 0.12634\n"
     ]
    },
    {
     "data": {
      "image/png": "[encoded data removed]",
      "text/plain": [
       "<Figure size 1080x576 with 1 Axes>"
      ]
     },
     "metadata": {
      "needs_background": "light"
     },
     "output_type": "display_data"
    }
   ],
   "source": [
    "# summarize feature importance\n",
    "for i,v in enumerate(importance):\n",
    "    print('Feature: %0d, Score: %.5f' % (i,v))\n",
    "# plot feature importance\n",
    "plt.figure(figsize=(15,8))\n",
    "plt.bar([X.columns[x] for x in range(len(importance))], importance)\n",
    "plt.show()"
   ]
  },
  {
   "cell_type": "markdown",
   "metadata": {},
   "source": [
    "#### Final Feature Set"
   ]
  },
  {
   "cell_type": "code",
   "execution_count": 136,
   "metadata": {},
   "outputs": [],
   "source": [
    "igr_top_3 = [x[0] for x in igr_list][:3]"
   ]
  },
  {
   "cell_type": "code",
   "execution_count": 137,
   "metadata": {},
   "outputs": [],
   "source": [
    "vif_top_3 = [df.columns[x] for x in list(selected_features.columns)][:3]"
   ]
  },
  {
   "cell_type": "code",
   "execution_count": 138,
   "metadata": {},
   "outputs": [],
   "source": [
    "indices = np.argsort(rf_clf.feature_importances_)[::-1] # increasing order\n",
    "rf_top_3 = [df.columns[x] for x in indices][:3]"
   ]
  },
  {
   "cell_type": "markdown",
   "metadata": {},
   "source": [
    "##### Unique Top 3 Features from each Method"
   ]
  },
  {
   "cell_type": "code",
   "execution_count": 139,
   "metadata": {},
   "outputs": [
    {
     "data": {
      "text/plain": [
       "['CPIAUCSL', 'RRSFS', 'PAYEMS', 'UNRATE', 'GFDEBTN', 'VIXCLS']"
      ]
     },
     "execution_count": 139,
     "metadata": {},
     "output_type": "execute_result"
    }
   ],
   "source": [
    "final_set = []\n",
    "for i in igr_top_3:\n",
    "    if i not in final_set:\n",
    "        final_set.append(i)\n",
    "for j in vif_top_3:\n",
    "    if j not in final_set:\n",
    "        final_set.append(j)\n",
    "for k in rf_top_3:\n",
    "    if k not in final_set:\n",
    "        final_set.append(k)\n",
    "final_set"
   ]
  },
  {
   "cell_type": "code",
   "execution_count": 140,
   "metadata": {},
   "outputs": [],
   "source": [
    "igr_top_1 = [x[0] for x in igr_list][0]"
   ]
  },
  {
   "cell_type": "code",
   "execution_count": 141,
   "metadata": {},
   "outputs": [],
   "source": [
    "vif_top_1 = [df.columns[x] for x in list(selected_features.columns)][0]"
   ]
  },
  {
   "cell_type": "code",
   "execution_count": 142,
   "metadata": {},
   "outputs": [],
   "source": [
    "indices_1 = np.argsort(rf_clf.feature_importances_)[::-1] # increasing order\n",
    "rf_top_1 = [df.columns[x] for x in indices_1][0]"
   ]
  },
  {
   "cell_type": "code",
   "execution_count": 143,
   "metadata": {},
   "outputs": [],
   "source": [
    "final_set_1=[igr_top_1, vif_top_1, rf_top_1]"
   ]
  },
  {
   "cell_type": "markdown",
   "metadata": {},
   "source": [
    "### Model Selection (All Features)"
   ]
  },
  {
   "cell_type": "markdown",
   "metadata": {},
   "source": [
    "#### Support Vector Classification, Decision Tree, Logistic Regression with Time Series Split"
   ]
  },
  {
   "cell_type": "code",
   "execution_count": 144,
   "metadata": {},
   "outputs": [],
   "source": [
    "classifiers = []\n",
    "classifiers.extend([(\"SVC\", SVC(random_state=1)), \n",
    "                    (\"Decision Tree\", DecisionTreeClassifier(random_state=1)), \n",
    "                    (\"Logistic Regression\", LogisticRegression(random_state=1))])"
   ]
  },
  {
   "cell_type": "code",
   "execution_count": 145,
   "metadata": {},
   "outputs": [],
   "source": [
    "results = []\n",
    "classifier_name = []\n",
    "for classifier in classifiers:\n",
    "    tscv = TimeSeriesSplit(n_splits=5)\n",
    "    all_y_preds = []\n",
    "    all_y_true = []\n",
    "    for train_index, test_index in tscv.split(X):\n",
    "        X_train, X_test = X[train_index[0]:train_index[-1]+1], X[test_index[0]:test_index[-1]+1]\n",
    "        y_train, y_test = y[train_index[0]:train_index[-1]+1], y[test_index[0]:test_index[-1]+1]\n",
    "        classifier[1].fit(X_train, y_train)\n",
    "        y_preds = classifier[1].predict(X_test)\n",
    "        all_y_preds.extend(y_preds)\n",
    "        all_y_true.extend(y_test)\n",
    "    results.append(f1_score(all_y_true,all_y_preds, average='weighted'))\n",
    "    classifier_name.append(classifier[0])"
   ]
  },
  {
   "cell_type": "code",
   "execution_count": 156,
   "metadata": {},
   "outputs": [
    {
     "data": {
      "text/html": [
       "<div>\n",
       "<style scoped>\n",
       "    .dataframe tbody tr th:only-of-type {\n",
       "        vertical-align: middle;\n",
       "    }\n",
       "\n",
       "    .dataframe tbody tr th {\n",
       "        vertical-align: top;\n",
       "    }\n",
       "\n",
       "    .dataframe thead th {\n",
       "        text-align: right;\n",
       "    }\n",
       "</style>\n",
       "<table border=\"1\" class=\"dataframe\">\n",
       "  <thead>\n",
       "    <tr style=\"text-align: right;\">\n",
       "      <th></th>\n",
       "      <th>Model</th>\n",
       "      <th>F1-Weighted</th>\n",
       "    </tr>\n",
       "  </thead>\n",
       "  <tbody>\n",
       "    <tr>\n",
       "      <th>2</th>\n",
       "      <td>Logistic Regression</td>\n",
       "      <td>0.380618</td>\n",
       "    </tr>\n",
       "    <tr>\n",
       "      <th>0</th>\n",
       "      <td>SVC</td>\n",
       "      <td>0.378253</td>\n",
       "    </tr>\n",
       "    <tr>\n",
       "      <th>1</th>\n",
       "      <td>Decision Tree</td>\n",
       "      <td>0.357567</td>\n",
       "    </tr>\n",
       "  </tbody>\n",
       "</table>\n",
       "</div>"
      ],
      "text/plain": [
       "                 Model F1-Weighted\n",
       "2  Logistic Regression    0.380618\n",
       "0                  SVC    0.378253\n",
       "1        Decision Tree    0.357567"
      ]
     },
     "execution_count": 156,
     "metadata": {},
     "output_type": "execute_result"
    }
   ],
   "source": [
    "before_fs = pd.DataFrame([classifier_name, results]).transpose()\\\n",
    "                                                    .rename(columns={0:'Model',\\\n",
    "                                                                     1:'F1-Weighted'})\\\n",
    "                                                    .sort_values(by='F1-Weighted', \\\n",
    "                                                                 ascending=False)\n",
    "before_fs"
   ]
  },
  {
   "cell_type": "markdown",
   "metadata": {},
   "source": [
    "### Model Selection (Using only Final Feature Set)"
   ]
  },
  {
   "cell_type": "code",
   "execution_count": 147,
   "metadata": {},
   "outputs": [],
   "source": [
    "final_set_1.append('target')\n",
    "df_fs = df[final_set_1]\n",
    "X = df_fs.drop(columns=['target'])\n",
    "y = df_fs.target"
   ]
  },
  {
   "cell_type": "code",
   "execution_count": 151,
   "metadata": {},
   "outputs": [],
   "source": [
    "classifiers_fs = []\n",
    "classifiers_fs.extend([(\"SVC (with feature selection)\", SVC(random_state=1)), \n",
    "                       (\"Decision Tree (with feature selection)\", DecisionTreeClassifier(random_state=1)), \n",
    "                       (\"Logistic Regression (with feature selection)\", LogisticRegression(random_state=1))\n",
    "                      ])"
   ]
  },
  {
   "cell_type": "code",
   "execution_count": 152,
   "metadata": {},
   "outputs": [],
   "source": [
    "results_fs = []\n",
    "classifier_name_fs = []\n",
    "for classifier in classifiers_fs:\n",
    "    tscv = TimeSeriesSplit(n_splits=5)\n",
    "    all_y_preds = []\n",
    "    all_y_true = []\n",
    "    for train_index, test_index in tscv.split(X):\n",
    "        X_train, X_test = X[train_index[0]:train_index[-1]+1], X[test_index[0]:test_index[-1]+1]\n",
    "        y_train, y_test = y[train_index[0]:train_index[-1]+1], y[test_index[0]:test_index[-1]+1]\n",
    "        classifier[1].fit(X_train, y_train)\n",
    "        y_preds = classifier[1].predict(X_test)\n",
    "        all_y_preds.extend(y_preds)\n",
    "        all_y_true.extend(y_test)\n",
    "    results_fs.append(f1_score(all_y_true,all_y_preds, average='weighted'))\n",
    "    classifier_name_fs.append(classifier[0])"
   ]
  },
  {
   "cell_type": "code",
   "execution_count": 157,
   "metadata": {},
   "outputs": [
    {
     "data": {
      "text/html": [
       "<div>\n",
       "<style scoped>\n",
       "    .dataframe tbody tr th:only-of-type {\n",
       "        vertical-align: middle;\n",
       "    }\n",
       "\n",
       "    .dataframe tbody tr th {\n",
       "        vertical-align: top;\n",
       "    }\n",
       "\n",
       "    .dataframe thead th {\n",
       "        text-align: right;\n",
       "    }\n",
       "</style>\n",
       "<table border=\"1\" class=\"dataframe\">\n",
       "  <thead>\n",
       "    <tr style=\"text-align: right;\">\n",
       "      <th></th>\n",
       "      <th>Model</th>\n",
       "      <th>F1-Weighted</th>\n",
       "    </tr>\n",
       "  </thead>\n",
       "  <tbody>\n",
       "    <tr>\n",
       "      <th>1</th>\n",
       "      <td>Decision Tree (with feature selection)</td>\n",
       "      <td>0.475371</td>\n",
       "    </tr>\n",
       "    <tr>\n",
       "      <th>0</th>\n",
       "      <td>SVC (with feature selection)</td>\n",
       "      <td>0.378253</td>\n",
       "    </tr>\n",
       "    <tr>\n",
       "      <th>2</th>\n",
       "      <td>Logistic Regression (with feature selection)</td>\n",
       "      <td>0.297011</td>\n",
       "    </tr>\n",
       "  </tbody>\n",
       "</table>\n",
       "</div>"
      ],
      "text/plain": [
       "                                          Model F1-Weighted\n",
       "1        Decision Tree (with feature selection)    0.475371\n",
       "0                  SVC (with feature selection)    0.378253\n",
       "2  Logistic Regression (with feature selection)    0.297011"
      ]
     },
     "execution_count": 157,
     "metadata": {},
     "output_type": "execute_result"
    }
   ],
   "source": [
    "after_fs = pd.DataFrame([classifier_name_fs, results_fs]).transpose()\\\n",
    "                                                         .rename(columns={0:'Model',\\\n",
    "                                                                          1:'F1-Weighted'})\\\n",
    "                                                         .sort_values(by='F1-Weighted', \\\n",
    "                                                                      ascending=False)\n",
    "after_fs"
   ]
  },
  {
   "cell_type": "markdown",
   "metadata": {},
   "source": [
    "##### Evaluation"
   ]
  },
  {
   "cell_type": "code",
   "execution_count": 160,
   "metadata": {},
   "outputs": [
    {
     "data": {
      "text/html": [
       "<div>\n",
       "<style scoped>\n",
       "    .dataframe tbody tr th:only-of-type {\n",
       "        vertical-align: middle;\n",
       "    }\n",
       "\n",
       "    .dataframe tbody tr th {\n",
       "        vertical-align: top;\n",
       "    }\n",
       "\n",
       "    .dataframe thead th {\n",
       "        text-align: right;\n",
       "    }\n",
       "</style>\n",
       "<table border=\"1\" class=\"dataframe\">\n",
       "  <thead>\n",
       "    <tr style=\"text-align: right;\">\n",
       "      <th></th>\n",
       "      <th>Model</th>\n",
       "      <th>F1-Weighted</th>\n",
       "    </tr>\n",
       "  </thead>\n",
       "  <tbody>\n",
       "    <tr>\n",
       "      <th>1</th>\n",
       "      <td>Decision Tree (with feature selection)</td>\n",
       "      <td>0.475371</td>\n",
       "    </tr>\n",
       "    <tr>\n",
       "      <th>2</th>\n",
       "      <td>Logistic Regression</td>\n",
       "      <td>0.380618</td>\n",
       "    </tr>\n",
       "    <tr>\n",
       "      <th>0</th>\n",
       "      <td>SVC</td>\n",
       "      <td>0.378253</td>\n",
       "    </tr>\n",
       "    <tr>\n",
       "      <th>0</th>\n",
       "      <td>SVC (with feature selection)</td>\n",
       "      <td>0.378253</td>\n",
       "    </tr>\n",
       "    <tr>\n",
       "      <th>1</th>\n",
       "      <td>Decision Tree</td>\n",
       "      <td>0.357567</td>\n",
       "    </tr>\n",
       "    <tr>\n",
       "      <th>2</th>\n",
       "      <td>Logistic Regression (with feature selection)</td>\n",
       "      <td>0.297011</td>\n",
       "    </tr>\n",
       "  </tbody>\n",
       "</table>\n",
       "</div>"
      ],
      "text/plain": [
       "                                          Model F1-Weighted\n",
       "1        Decision Tree (with feature selection)    0.475371\n",
       "2                           Logistic Regression    0.380618\n",
       "0                                           SVC    0.378253\n",
       "0                  SVC (with feature selection)    0.378253\n",
       "1                                 Decision Tree    0.357567\n",
       "2  Logistic Regression (with feature selection)    0.297011"
      ]
     },
     "execution_count": 160,
     "metadata": {},
     "output_type": "execute_result"
    }
   ],
   "source": [
    "concat_results = pd.concat([before_fs, after_fs]).sort_values(by='F1-Weighted', ascending=False)\n",
    "concat_results"
   ]
  }
 ],
 "metadata": {
  "kernelspec": {
   "display_name": "Python 3",
   "language": "python",
   "name": "python3"
  },
  "language_info": {
   "codemirror_mode": {
    "name": "ipython",
    "version": 3
   },
   "file_extension": ".py",
   "mimetype": "text/x-python",
   "name": "python",
   "nbconvert_exporter": "python",
   "pygments_lexer": "ipython3",
   "version": "3.7.3"
  }
 },
 "nbformat": 4,
 "nbformat_minor": 4
}